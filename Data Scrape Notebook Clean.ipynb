{
 "cells": [
  {
   "cell_type": "markdown",
   "id": "42aa7934",
   "metadata": {},
   "source": [
    "# Reading the HTML of Rotten Tomatoes\n"
   ]
  },
  {
   "cell_type": "markdown",
   "id": "5770e284",
   "metadata": {},
   "source": [
    "First let's make sure we are pulling the link to where we will be takin information"
   ]
  },
  {
   "cell_type": "code",
   "execution_count": 1,
   "id": "ecfe4da1",
   "metadata": {},
   "outputs": [],
   "source": [
    "import requests\n",
    "from bs4 import BeautifulSoup\n",
    "\n",
    "r = requests.get('https://www.rottentomatoes.com/browse/movies_at_home/sort:popular?page=1')\n",
    "soup = BeautifulSoup(r.content, 'lxml')\n",
    "\n",
    "a_href=soup.find_all()\n",
    "\n",
    "test=soup.find_all('div', {\"class\":\"discovery-tiles__wrap\"})\n",
    "\n",
    "links = []\n",
    "\n",
    "for a in test:\n",
    "    all_a = a.find_all('a')\n",
    "    for link in all_a:\n",
    "        links.append(link.get('href'))\n",
    "        \n",
    "\n",
    "\n",
    "links_test=[]     \n",
    "for link in links:\n",
    "    link=f'https://www.rottentomatoes.com{link}'\n",
    "    links_test.append(link)\n",
    "        \n",
    "succesful_links = links_test"
   ]
  },
  {
   "cell_type": "code",
   "execution_count": 2,
   "id": "6c5d52bf",
   "metadata": {},
   "outputs": [
    {
     "data": {
      "text/plain": [
       "'doctor_strange_in_the_multiverse_of_madness'"
      ]
     },
     "execution_count": 2,
     "metadata": {},
     "output_type": "execute_result"
    }
   ],
   "source": [
    "a=links.copy()\n",
    "names_of_movie=[]\n",
    "for item in a:\n",
    "    names_of_movie.append(item.replace('/m/',''))\n",
    "    \n",
    "names_of_movie[0]\n",
    "\n",
    "    \n",
    "    "
   ]
  },
  {
   "cell_type": "markdown",
   "id": "62b7f31a",
   "metadata": {},
   "source": [
    "Now that we have synthesized a redirectory in the form of a list have the freedom to call the object from the list"
   ]
  },
  {
   "cell_type": "code",
   "execution_count": 3,
   "id": "14f50c2a",
   "metadata": {},
   "outputs": [
    {
     "data": {
      "text/plain": [
       "['https://www.rottentomatoes.com/m/doctor_strange_in_the_multiverse_of_madness',\n",
       " 'https://www.rottentomatoes.com/m/everything_everywhere_all_at_once',\n",
       " 'https://www.rottentomatoes.com/m/the_sea_beast',\n",
       " 'https://www.rottentomatoes.com/m/thor_ragnarok_2017',\n",
       " 'https://www.rottentomatoes.com/m/thor',\n",
       " 'https://www.rottentomatoes.com/m/hustle_2022',\n",
       " 'https://www.rottentomatoes.com/m/happening',\n",
       " 'https://www.rottentomatoes.com/m/girl_in_the_picture_2022',\n",
       " 'https://www.rottentomatoes.com/m/x_2022',\n",
       " 'https://www.rottentomatoes.com/m/the_innocents_2022',\n",
       " 'https://www.rottentomatoes.com/m/spiderhead',\n",
       " 'https://www.rottentomatoes.com/m/neptune_frost',\n",
       " 'https://www.rottentomatoes.com/m/the_man_from_toronto_2022',\n",
       " 'https://www.rottentomatoes.com/m/leave_no_trace',\n",
       " 'https://www.rottentomatoes.com/m/beavis_and_butt_head_do_the_universe',\n",
       " 'https://www.rottentomatoes.com/m/the_batman',\n",
       " 'https://www.rottentomatoes.com/m/last_night_in_soho',\n",
       " 'https://www.rottentomatoes.com/m/moon_66_questions',\n",
       " 'https://www.rottentomatoes.com/m/what_is_a_woman',\n",
       " 'https://www.rottentomatoes.com/m/the_northman',\n",
       " 'https://www.rottentomatoes.com/m/eternals',\n",
       " 'https://www.rottentomatoes.com/m/thor_the_dark_world',\n",
       " 'https://www.rottentomatoes.com/m/the_princess_2022_2',\n",
       " 'https://www.rottentomatoes.com/m/uncharted_2022',\n",
       " 'https://www.rottentomatoes.com/m/the_lost_city',\n",
       " 'https://www.rottentomatoes.com/m/good_luck_to_you_leo_grande',\n",
       " 'https://www.rottentomatoes.com/m/house_of_gucci',\n",
       " 'https://www.rottentomatoes.com/m/incantation',\n",
       " 'https://www.rottentomatoes.com/m/terror_on_the_prairie',\n",
       " 'https://www.rottentomatoes.com/m/avengers_endgame']"
      ]
     },
     "execution_count": 3,
     "metadata": {},
     "output_type": "execute_result"
    }
   ],
   "source": [
    "succesful_links"
   ]
  },
  {
   "cell_type": "markdown",
   "id": "0a91472a",
   "metadata": {},
   "source": [
    "We will have to visit each one of these urls inorder to extract information for our data frame"
   ]
  },
  {
   "cell_type": "markdown",
   "id": "32529d35",
   "metadata": {},
   "source": [
    "Let's test it on a single scrape"
   ]
  },
  {
   "cell_type": "code",
   "execution_count": 6,
   "id": "8ff39699",
   "metadata": {},
   "outputs": [
    {
     "name": "stdout",
     "output_type": "stream",
     "text": [
      "{'doctor_strange_in_the_multiverse_of_madness': {'audience_score': '85', 'tomato_score': '74', 'rating': 'PG-13'}, 'everything_everywhere_all_at_once': {'audience_score': '89', 'tomato_score': '95', 'rating': 'R'}, 'the_sea_beast': {'audience_score': '89', 'tomato_score': '94', 'rating': 'PG'}, 'thor_ragnarok_2017': {'audience_score': '87', 'tomato_score': '93', 'rating': 'PG-13'}, 'thor': {'audience_score': '76', 'tomato_score': '77', 'rating': 'PG-13'}, 'hustle_2022': {'audience_score': '93', 'tomato_score': '92', 'rating': 'R'}, 'happening': {'audience_score': '79', 'tomato_score': '99', 'rating': 'R'}, 'girl_in_the_picture_2022': {'audience_score': '87', 'tomato_score': '94', 'rating': ''}, 'x_2022': {'audience_score': '75', 'tomato_score': '95', 'rating': 'R'}, 'the_innocents_2022': {'audience_score': '70', 'tomato_score': '97', 'rating': ''}, 'spiderhead': {'audience_score': '30', 'tomato_score': '40', 'rating': 'R'}, 'neptune_frost': {'audience_score': '63', 'tomato_score': '97', 'rating': ''}, 'the_man_from_toronto_2022': {'audience_score': '42', 'tomato_score': '22', 'rating': 'PG-13'}, 'leave_no_trace': {'audience_score': '80', 'tomato_score': '100', 'rating': 'PG'}, 'beavis_and_butt_head_do_the_universe': {'audience_score': '82', 'tomato_score': '96', 'rating': ''}, 'the_batman': {'audience_score': '87', 'tomato_score': '85', 'rating': 'PG-13'}, 'last_night_in_soho': {'audience_score': '90', 'tomato_score': '76', 'rating': 'R'}, 'moon_66_questions': {'audience_score': '', 'tomato_score': '92', 'rating': ''}, 'what_is_a_woman': {'audience_score': '97', 'tomato_score': '', 'rating': ''}, 'the_northman': {'audience_score': '64', 'tomato_score': '89', 'rating': 'R'}, 'eternals': {'audience_score': '78', 'tomato_score': '47', 'rating': 'PG-13'}, 'thor_the_dark_world': {'audience_score': '75', 'tomato_score': '66', 'rating': 'PG-13'}, 'the_princess_2022_2': {'audience_score': '49', 'tomato_score': '59', 'rating': 'R'}, 'uncharted_2022': {'audience_score': '90', 'tomato_score': '40', 'rating': 'PG-13'}, 'the_lost_city': {'audience_score': '83', 'tomato_score': '79', 'rating': 'PG-13'}, 'good_luck_to_you_leo_grande': {'audience_score': '86', 'tomato_score': '95', 'rating': 'R'}, 'house_of_gucci': {'audience_score': '83', 'tomato_score': '63', 'rating': 'R'}, 'incantation': {'audience_score': '56', 'tomato_score': '', 'rating': ''}, 'terror_on_the_prairie': {'audience_score': '86', 'tomato_score': '', 'rating': ''}, 'avengers_endgame': {'audience_score': '90', 'tomato_score': '94', 'rating': 'PG-13'}}\n"
     ]
    }
   ],
   "source": [
    "test_dict = {}\n",
    "\n",
    "for i in range(0,len(succesful_links)):\n",
    "    \n",
    "    r = requests.get(succesful_links[i])    \n",
    "    soup = BeautifulSoup(r.text, \"html.parser\")\n",
    "    audience_score= soup.find(\"score-board\").get('audiencescore')\n",
    "    tomato_score=soup.find(\"score-board\").get('tomatometerscore')\n",
    "    rating =soup.find(\"score-board\").get('rating')\n",
    "    \n",
    "    test_dict[names_of_movie[i]]={\"audience_score\":audience_score,\"tomato_score\":tomato_score,\"rating\":rating}\n",
    "    \n",
    "print(test_dict)\n",
    "\n",
    "\n",
    "    \n",
    "    "
   ]
  },
  {
   "cell_type": "markdown",
   "id": "4678ffcd",
   "metadata": {},
   "source": [
    "Great Now we have a way of generating a dictionary with scraped items. However I want more information."
   ]
  },
  {
   "cell_type": "code",
   "execution_count": 7,
   "id": "0ea4d00c",
   "metadata": {},
   "outputs": [
    {
     "data": {
      "text/plain": [
       "(['Rating',\n",
       "  'Genre',\n",
       "  'Original Language',\n",
       "  'Director',\n",
       "  'Producer',\n",
       "  'Writer',\n",
       "  'Release Date (Theaters)',\n",
       "  'Release Date (Streaming)',\n",
       "  'Box Office (Gross USA)',\n",
       "  'Runtime',\n",
       "  'Distributor',\n",
       "  'Sound Mix',\n",
       "  'Aspect Ratio'],\n",
       " ['R(SexualMaterial|Language|SomeViolence)',\n",
       "  'Comedy,Adventure,Fantasy',\n",
       "  'English',\n",
       "  'DanKwan,DanielScheinert',\n",
       "  'JoeRusso,AnthonyRusso,MikeLarocca,DanKwan,DanielScheinert,JonathanWang',\n",
       "  'DanKwan,DanielScheinert',\n",
       "  'Apr8,2022\\xa0wide',\n",
       "  'Jun7,2022',\n",
       "  '$67.6M',\n",
       "  '2h12m',\n",
       "  'A24',\n",
       "  'DolbyDigital',\n",
       "  'Flat(1.85:1)'])"
      ]
     },
     "execution_count": 7,
     "metadata": {},
     "output_type": "execute_result"
    }
   ],
   "source": [
    "r = requests.get(succesful_links[1])    \n",
    "soup = BeautifulSoup(r.text, \"html.parser\")\n",
    "movie_info_keys=soup.find(\"ul\",{\"class\":\"content-meta info\"}).find_all(\"li\")\n",
    "movie_info_values=soup.find(\"ul\",{\"class\":\"content-meta info\"}).find_all(\"li\")\n",
    "\n",
    "###keys \n",
    "m_i_k_list = []\n",
    "for li in movie_info_keys:\n",
    "    li = li.find('div').text\n",
    "    li=li.replace(\":\",\"\")\n",
    "    m_i_k_list.append(li)\n",
    "###values \n",
    "m_i_v_list = []\n",
    "for meta in movie_info_values:\n",
    "    meta=meta.find('div', {\"class\":\"meta-value\"}).text\n",
    "    meta=meta.replace(\" \",\"\")\n",
    "    meta=meta.replace(\"\\n\",\"\")\n",
    "    m_i_v_list.append(meta)\n",
    "    \n",
    "\n",
    "m_i_k_list,m_i_v_list\n",
    "\n"
   ]
  },
  {
   "cell_type": "markdown",
   "id": "01220d38",
   "metadata": {},
   "source": [
    "I want to create a forloop that can do this for each entry and also append to our test dictionary. Let's see if I can fuse the code above and debug from there. "
   ]
  },
  {
   "cell_type": "code",
   "execution_count": 8,
   "id": "5f28414f",
   "metadata": {},
   "outputs": [
    {
     "name": "stdout",
     "output_type": "stream",
     "text": [
      "{'doctor_strange_in_the_multiverse_of_madness': {'Rating': 'PG-13(FrighteningImages|Action|IntenseSequencesofViolence|SomeLanguage)', 'Genre': 'Action,Adventure,Fantasy', 'Original Language': 'English', 'Director': 'SamRaimi', 'Producer': 'KevinFeige', 'Writer': 'MichaelWaldron', 'Release Date (Theaters)': 'May6,2022\\xa0wide', 'Release Date (Streaming)': 'Jun22,2022', 'Box Office (Gross USA)': '$411.0M', 'Runtime': '2h6m', 'Distributor': 'WaltDisneyPictures', 'Sound Mix': 'DolbyAtmos,DolbyDigital,DTS', 'Aspect Ratio': 'Scope(2.35:1)', 'View the collection': 'MarvelCinematicUniverse'}}\n",
      "{'everything_everywhere_all_at_once': {'Rating': 'R(SexualMaterial|Language|SomeViolence)', 'Genre': 'Comedy,Adventure,Fantasy', 'Original Language': 'English', 'Director': 'DanKwan,DanielScheinert', 'Producer': 'JoeRusso,AnthonyRusso,MikeLarocca,DanKwan,DanielScheinert,JonathanWang', 'Writer': 'DanKwan,DanielScheinert', 'Release Date (Theaters)': 'Apr8,2022\\xa0wide', 'Release Date (Streaming)': 'Jun7,2022', 'Box Office (Gross USA)': '$67.6M', 'Runtime': '2h12m', 'Distributor': 'A24', 'Sound Mix': 'DolbyDigital', 'Aspect Ratio': 'Flat(1.85:1)'}}\n",
      "{'the_sea_beast': {'Rating': 'PG(Action|Violence|SomeLanguage)', 'Genre': 'Fantasy,Adventure,Comedy,Kids&family', 'Original Language': 'English', 'Director': 'ChrisWilliams', 'Producer': 'JedSchlanger', 'Writer': 'ChrisWilliams', 'Release Date (Streaming)': 'Jul8,2022', 'Runtime': '1h55m', 'Sound Mix': 'DolbyAtmos,DolbyDigital', 'Aspect Ratio': 'Flat(1.85:1)'}}\n",
      "{'thor_ragnarok_2017': {'Rating': 'PG-13(BriefSuggestiveMaterial|Action|IntenseSci-FiViolence)', 'Genre': 'Action,Adventure,Fantasy,Comedy', 'Original Language': 'English', 'Director': 'TaikaWaititi', 'Producer': 'KevinFeige', 'Writer': 'EricPearson,CraigKyle,ChristopherYost', 'Release Date (Theaters)': 'Nov3,2017\\xa0wide', 'Release Date (Streaming)': 'Mar6,2018', 'Box Office (Gross USA)': '$315.0M', 'Runtime': '2h10m', 'Distributor': 'WaltDisney', 'Sound Mix': 'DolbyAtmos', 'Aspect Ratio': 'Scope(2.35:1)', 'View the collection': 'MarvelCinematicUniverse'}}\n",
      "{'thor': {'Rating': 'PG-13(IntenseSci-FiAction/Violence)', 'Genre': 'Action,Adventure,Fantasy', 'Original Language': 'English', 'Director': 'KennethBranagh', 'Producer': 'KevinFeige', 'Writer': 'AshleyMiller,ZackStentz,DonPayne', 'Release Date (Theaters)': 'May6,2011\\xa0wide', 'Release Date (Streaming)': 'Sep13,2011', 'Box Office (Gross USA)': '$268.0M', 'Runtime': '1h53m', 'Distributor': 'ParamountPictures', 'Sound Mix': 'SDDS,Datasat,DolbyDigital', 'View the collection': 'MarvelCinematicUniverse'}}\n",
      "{'hustle_2022': {'Rating': 'R(Language)', 'Genre': 'Drama', 'Original Language': 'English', 'Director': 'JeremiahZagar', 'Producer': 'AdamSandler,LeBronJames,MaverickCarter,JeffKirschenbaum,JoeRoth,ZackRoth', 'Writer': 'TaylorMaterne,WillFetters', 'Release Date (Theaters)': 'Jun3,2022\\xa0limited', 'Release Date (Streaming)': 'Jun8,2022', 'Runtime': '1h58m', 'Distributor': 'Netflix', 'Sound Mix': 'DolbyDigital,DolbyAtmos'}}\n",
      "{'happening': {'Rating': 'R(SexualContent|GraphicNudity|DisturbingMaterial/Images)', 'Genre': 'Drama', 'Original Language': 'French(France)', 'Director': 'AudreyDiwan', 'Producer': 'AliceGirard,EdouardWeil', 'Writer': 'MarciaRomano,AudreyDiwan,AnnieErnaux', 'Release Date (Theaters)': 'May6,2022\\xa0limited', 'Release Date (Streaming)': 'Jun21,2022', 'Box Office (Gross USA)': '$180.1K', 'Runtime': '1h40m', 'Distributor': 'IFCFilms', 'Aspect Ratio': 'Flat(1.37:1)'}}\n",
      "{'girl_in_the_picture_2022': {'Genre': 'Documentary', 'Original Language': 'English', 'Director': 'SkyeBorgman', 'Release Date (Streaming)': 'Jul6,2022', 'Runtime': '1h41m'}}\n",
      "{'x_2022': {'Rating': 'R(Gore|DrugUse|StrongSexualContent|GraphicNudity|Language|StrongBloodyViolence)', 'Genre': 'Horror,Mystery&thriller', 'Original Language': 'English', 'Director': 'TiWest', 'Producer': 'JacobJaffke,KevinTuren,HarrisonKreiss', 'Writer': 'TiWest', 'Release Date (Theaters)': 'Mar18,2022\\xa0wide', 'Release Date (Streaming)': 'Apr14,2022', 'Box Office (Gross USA)': '$11.6M', 'Runtime': '1h45m', 'Distributor': 'A24'}}\n",
      "{'the_innocents_2022': {'Genre': 'Horror', 'Original Language': 'Norwegian', 'Director': 'EskilVogt', 'Producer': 'MariaEkerhovd,MishaJaari,MarkLwoff', 'Writer': 'EskilVogt', 'Release Date (Theaters)': 'May13,2022\\xa0limited', 'Release Date (Streaming)': 'May13,2022', 'Box Office (Gross USA)': '$21.1K', 'Runtime': '1h58m', 'Distributor': 'IFCMidnight', 'Aspect Ratio': 'Scope(2.35:1)'}}\n",
      "{'spiderhead': {'Rating': 'R(Language|ViolentContent|SexualContent)', 'Genre': 'Crime,Drama,Action', 'Original Language': 'English', 'Director': 'JosephKosinski', 'Producer': 'EricNewman,ChrisHemsworth,RhettReese,PaulWernick,AgnesChu,GenevaWasserman,TommyHarper,JeremySteckler', 'Writer': 'RhettReese,PaulWernick', 'Release Date (Streaming)': 'Jun17,2022', 'Runtime': '1h47m', 'Sound Mix': 'DolbyDigital,DolbyAtmos'}}\n",
      "{'neptune_frost': {'Genre': 'Musical,Sci-fi', 'Original Language': 'Swahili', 'Director': 'SaulWilliams,AnisiaUzeyman', 'Producer': 'MariaJudice,EzraMiller,AnisiaUzeyman,SaulWilliams', 'Writer': 'SaulWilliams', 'Release Date (Theaters)': 'Jun3,2022\\xa0limited', 'Release Date (Streaming)': 'Jul5,2022', 'Box Office (Gross USA)': '$160.1K', 'Runtime': '1h45m', 'Distributor': 'KinoLorber'}}\n",
      "{'the_man_from_toronto_2022': {'Rating': 'PG-13(SomeStrongLanguage|ViolenceThroughout|SuggestiveMaterial)', 'Genre': 'Action,Comedy', 'Original Language': 'English', 'Director': 'PatrickHughes', 'Producer': 'ToddBlack,JasonBlumenthal,SteveTisch', 'Writer': 'RobbieFox,ChrisBremner', 'Release Date (Streaming)': 'Jun24,2022', 'Runtime': '1h50m', 'Sound Mix': 'DolbyDigital', 'Aspect Ratio': 'Scope(2.35:1)'}}\n",
      "{'leave_no_trace': {'Rating': 'PG(ThematicMaterialThroughout)', 'Genre': 'Drama', 'Original Language': 'English', 'Director': 'DebraGranik', 'Producer': 'AnneHarrison,LindaReisman,AnneRosellini', 'Writer': 'DebraGranik,AnneRosellini', 'Release Date (Theaters)': 'Jun29,2018\\xa0limited', 'Release Date (Streaming)': 'Oct2,2018', 'Box Office (Gross USA)': '$6.0M', 'Runtime': '1h48m', 'Distributor': 'BleeckerStreetMedia'}}\n",
      "{'beavis_and_butt_head_do_the_universe': {'Genre': 'Comedy,Adventure', 'Original Language': 'English', 'Director': 'MikeJudge', 'Producer': 'MikeJudge', 'Writer': 'MikeJudge', 'Release Date (Streaming)': 'Jun23,2022', 'Runtime': '1h26m'}}\n",
      "{'the_batman': {'Rating': 'PG-13(SomeSuggestiveMaterial|DrugContent|StrongDisturbingContent|StrongLanguage|StrongViolentContent)', 'Genre': 'Action,Adventure', 'Original Language': 'English', 'Director': 'MattReeves', 'Producer': 'DylanClark,MattReeves', 'Writer': 'MattReeves,PeterCraig', 'Release Date (Theaters)': 'Mar4,2022\\xa0wide', 'Release Date (Streaming)': 'Apr19,2022', 'Box Office (Gross USA)': '$369.3M', 'Runtime': '2h56m', 'Distributor': 'WarnerBros.Pictures', 'Sound Mix': 'DolbyDigital,SDDS,DolbyAtmos', 'Aspect Ratio': 'Scope(2.35:1)', 'View the collection': 'Batman'}}\n",
      "{'last_night_in_soho': {'Rating': 'R(BriefDrugMaterial|BloodyViolence|BriefGraphicNudity|Language|SexualContent)', 'Genre': 'Drama', 'Original Language': 'English(UnitedKingdom)', 'Director': 'EdgarWright', 'Producer': 'NiraPark,TimBevan,EricFellner,LauraRichardson,EdgarWright', 'Writer': 'EdgarWright,KrystyWilson-Cairns', 'Release Date (Theaters)': 'Oct29,2021\\xa0wide', 'Release Date (Streaming)': 'Nov18,2021', 'Box Office (Gross USA)': '$10.1M', 'Runtime': '1h57m', 'Distributor': 'FocusFeatures', 'Sound Mix': 'DolbyAtmos', 'Aspect Ratio': 'Scope(2.35:1)'}}\n",
      "{'moon_66_questions': {'Genre': 'Drama,Lgbtq+', 'Original Language': 'Greek', 'Director': 'JacquelineLentzou,JacquelineLentzo', 'Producer': 'FeniaCossovitsa', 'Writer': 'JacquelineLentzou,JacquelineLentzo', 'Release Date (Theaters)': 'Jul8,2022\\xa0limited', 'Release Date (Streaming)': 'Jul8,2022', 'Runtime': '1h48m', 'Distributor': 'FilmMovement'}}\n",
      "{'what_is_a_woman': {'Genre': 'Documentary', 'Original Language': 'English', 'Director': 'JustinFolk', 'Producer': 'JustinFolk,DallasSonnier,CharlotteRoland', 'Release Date (Streaming)': 'Jun1,2022', 'Runtime': '1h34m'}}\n",
      "{'the_northman': {'Rating': 'R(SomeSexualContent|Nudity|StrongBloodyViolence)', 'Genre': 'Adventure,Action,Mystery&thriller', 'Original Language': 'English', 'Director': 'RobertEggers', 'Producer': 'RobertEggers,MarkHuffam,LarsKnudsen,ArnonMilchan,AlexanderSkarsgård', 'Writer': 'Sjón,RobertEggers', 'Release Date (Theaters)': 'Apr22,2022\\xa0wide', 'Release Date (Streaming)': 'May13,2022', 'Box Office (Gross USA)': '$34.2M', 'Runtime': '2h17m', 'Distributor': 'FocusFeatures', 'Sound Mix': 'DolbyAtmos,DolbyDigital', 'Aspect Ratio': 'Flat(1.85:1)'}}\n"
     ]
    },
    {
     "name": "stdout",
     "output_type": "stream",
     "text": [
      "{'eternals': {'Rating': 'PG-13(FantasyViolenceandAction|BriefSexuality|SomeLanguage)', 'Genre': 'Action,Adventure,Fantasy', 'Original Language': 'English', 'Director': 'ChloéZhao', 'Producer': 'KevinFeige,NateMoore', 'Writer': 'ChloéZhao,RyanFirpo,KazFirpo', 'Release Date (Theaters)': 'Nov5,2021\\xa0wide', 'Release Date (Streaming)': 'Jan12,2022', 'Box Office (Gross USA)': '$164.9M', 'Runtime': '2h37m', 'Distributor': 'WaltDisney', 'Sound Mix': 'DolbyAtmos,DolbyDigital', 'Aspect Ratio': 'Scope(2.35:1)', 'View the collection': 'MarvelCinematicUniverse'}}\n",
      "{'thor_the_dark_world': {'Rating': 'PG-13(SomeSuggestiveContent|IntenseSci-FiAction/Violence)', 'Genre': 'Action,Adventure,Fantasy', 'Original Language': 'English', 'Director': 'AlanTaylor', 'Producer': 'KevinFeige', 'Writer': 'ChristopherYost,ChristopherMarkus,StephenMcFeely', 'Release Date (Theaters)': 'Nov8,2013\\xa0wide', 'Release Date (Streaming)': 'Feb25,2014', 'Box Office (Gross USA)': '$206.4M', 'Runtime': '1h51m', 'Distributor': 'WaltDisney', 'Sound Mix': 'Datasat,DolbyAtmos,DolbyDigital', 'View the collection': 'MarvelCinematicUniverse'}}\n",
      "{'the_princess_2022_2': {'Rating': 'R(SomeLanguage|Strong/BloodyViolence)', 'Genre': 'Action,Adventure,Fantasy,Drama,Mystery&thriller', 'Original Language': 'English', 'Director': 'Le-VanKiet', 'Producer': 'NealH.Moritz,TobyJaffe,DerekKolstad', 'Writer': 'BenLustig,JakeThornton', 'Release Date (Streaming)': 'Jul1,2022', 'Runtime': '1h34m'}}\n",
      "{'uncharted_2022': {'Rating': 'PG-13(Violence/ActionandLanguage)', 'Genre': 'Adventure,Action', 'Original Language': 'English', 'Director': 'RubenFleischer', 'Producer': 'CharlesRoven,AviArad,AlexGartner,AriArad', 'Writer': 'RafeJudkins,ArtMarcum,MattHolloway', 'Release Date (Theaters)': 'Feb18,2022\\xa0wide', 'Release Date (Streaming)': 'Apr26,2022', 'Box Office (Gross USA)': '$147.7M', 'Runtime': '1h56m', 'Distributor': 'SonyPictures', 'Sound Mix': 'DTS,DolbyAtmos,DolbyDigital', 'Aspect Ratio': 'Scope(2.35:1)'}}\n",
      "{'the_lost_city': {'Rating': 'PG-13(PartialNudity|Language|SomeBloodyImages|SuggestiveMaterial|Violence)', 'Genre': 'Adventure,Action', 'Original Language': 'English', 'Director': 'AdamNee,AaronNee', 'Producer': 'LizaChasin,SandraBullock,SethGordon', 'Writer': 'OrenUziel,DanaFox,AdamNee,AaronNee', 'Release Date (Theaters)': 'Mar25,2022\\xa0wide', 'Release Date (Streaming)': 'May10,2022', 'Box Office (Gross USA)': '$104.9M', 'Runtime': '1h52m', 'Distributor': 'ParamountPictures', 'Aspect Ratio': 'Scope(2.35:1)'}}\n",
      "{'good_luck_to_you_leo_grande': {'Rating': 'R(GraphicNudity|SomeLanguage|SexualContent)', 'Genre': 'Comedy,Drama', 'Original Language': 'English(UnitedKingdom)', 'Director': 'SophieHyde', 'Producer': 'DebbieGray,AdrianPolitowski', 'Writer': 'KatyBrand', 'Release Date (Streaming)': 'Jun17,2022', 'Runtime': '1h37m', 'Sound Mix': 'DolbyDigital'}}\n",
      "{'house_of_gucci': {'Rating': 'R(Language|BriefNudity|SomeSexualContent|Violence)', 'Genre': 'Drama', 'Original Language': 'English', 'Director': 'RidleyScott', 'Producer': 'RidleyScott,GianninaFacio,KevinJ.Walsh,MarkHuffam', 'Writer': 'BeckyJohnston,RobertoBentivegna', 'Release Date (Theaters)': 'Nov24,2021\\xa0wide', 'Release Date (Streaming)': 'Feb1,2022', 'Box Office (Gross USA)': '$53.8M', 'Runtime': '2h37m', 'Distributor': 'UnitedArtistsReleasing', 'Sound Mix': 'DolbyAtmos,DolbyDigital', 'Aspect Ratio': 'Scope(2.35:1)'}}\n",
      "{'incantation': {'Genre': 'Horror', 'Original Language': 'Chinese', 'Director': 'KevinKo', 'Producer': 'JacysCheng-YuLin,Hsu-fenYang', 'Writer': 'KevinKo,Che-WeiChang', 'Release Date (Streaming)': 'Jul8,2022', 'Runtime': '1h50m'}}\n",
      "{'terror_on_the_prairie': {'Genre': 'Western,Action', 'Original Language': 'English', 'Director': 'MichaelPolish', 'Producer': 'GinaCarano,DallasSonnier,AmandaPresmyk', 'Writer': 'JosiahNelson', 'Release Date (Streaming)': 'Jun14,2022', 'Runtime': '1h47m'}}\n",
      "{'avengers_endgame': {'Rating': 'PG-13(SequencesofSci-FiViolence|Action|SomeLanguage)', 'Genre': 'Action,Adventure,Fantasy', 'Original Language': 'English', 'Director': 'AnthonyRusso,JoeRusso', 'Producer': 'KevinFeige', 'Writer': 'ChristopherMarkus,StephenMcFeely', 'Release Date (Theaters)': 'Apr26,2019\\xa0wide', 'Release Date (Streaming)': 'Jul30,2019', 'Box Office (Gross USA)': '$858.4M', 'Runtime': '3h1m', 'Distributor': 'WaltDisney', 'Sound Mix': 'DolbyAtmos,DTS,SDDS,DolbyDigital', 'Aspect Ratio': 'Scope(2.35:1)', 'View the collection': 'MarvelCinematicUniverse'}}\n"
     ]
    }
   ],
   "source": [
    "tomato_dict = {}\n",
    "tomato_dict_more_info = {}\n",
    "for i in range(0,len(succesful_links)):\n",
    "    \n",
    "    r = requests.get(succesful_links[i])    \n",
    "    soup = BeautifulSoup(r.text, \"html.parser\")\n",
    "    audience_score= soup.find(\"score-board\").get('audiencescore')\n",
    "    tomato_score=soup.find(\"score-board\").get('tomatometerscore')\n",
    "    rating =soup.find(\"score-board\").get('rating')\n",
    "    movie_info_keys=soup.find(\"ul\",{\"class\":\"content-meta info\"}).find_all(\"li\")\n",
    "    movie_info_values=soup.find(\"ul\",{\"class\":\"content-meta info\"}).find_all(\"li\")\n",
    "    \n",
    "    tomato_dict[names_of_movie[i]]={\"audience_score\":audience_score,\"tomato_score\":tomato_score,\"rating\":rating}\n",
    "###keys \n",
    "    m_i_k_list = []\n",
    "    for li in movie_info_keys:\n",
    "        li = li.find('div').text\n",
    "        li=li.replace(\":\",\"\")\n",
    "        m_i_k_list.append(li)\n",
    "###values \n",
    "    m_i_v_list = []\n",
    "    for meta in movie_info_values:\n",
    "        meta=meta.find('div', {\"class\":\"meta-value\"}).text\n",
    "        meta=meta.replace(\" \",\"\")\n",
    "        meta=meta.replace(\"\\n\",\"\")\n",
    "        m_i_v_list.append(meta)\n",
    "        \n",
    "    \n",
    "    zip_iterator = zip(m_i_k_list,m_i_v_list)\n",
    "    tomato_dict_more_info = {names_of_movie[i]:dict(zip_iterator)}\n",
    "           \n",
    "    \n",
    "    \n",
    "    print(tomato_dict_more_info)\n",
    "                                  \n",
    "       \n",
    "\n",
    "    \n",
    "    \n",
    "                                            \n",
    "    \n",
    "\n"
   ]
  },
  {
   "cell_type": "markdown",
   "id": "204bb9b2",
   "metadata": {},
   "source": [
    "Now I can create two dictionaries for every link. However, the link is currently limited to whatever is displayed on \n",
    "the page. There is a button that has a link which once interacted with will enlongate the list of information I am \n",
    "scraping. Both dictionaries share the same Key Values which will help when merging them into one data frame"
   ]
  },
  {
   "cell_type": "markdown",
   "id": "1e96f6e9",
   "metadata": {},
   "source": [
    "The code below opens my web page and successfully extends it, however it only does this for the get('initial page') when I have to repeat this command until it cannot execute anymore"
   ]
  },
  {
   "cell_type": "markdown",
   "id": "9c05a12c",
   "metadata": {},
   "source": [
    "i will set count = 1 (first page) and have the link that is scraped update everytime loud_botton.click() is executed and merge all of my \n",
    "previous work "
   ]
  },
  {
   "cell_type": "code",
   "execution_count": 9,
   "id": "888f44e8",
   "metadata": {},
   "outputs": [
    {
     "name": "stderr",
     "output_type": "stream",
     "text": [
      "/var/folders/xp/ksk4jb6j25df8dk_14f29cqw0000gn/T/ipykernel_8998/3347784395.py:11: DeprecationWarning: executable_path has been deprecated, please pass in a Service object\n",
      "  driver = webdriver.Chrome(executable_path='./chromedriver')\n"
     ]
    },
    {
     "ename": "NoSuchElementException",
     "evalue": "Message: no such element: Unable to locate element: {\"method\":\"xpath\",\"selector\":\"//*[@id=\"main-page-content\"]/div/div[5]/button\"}\n  (Session info: chrome=103.0.5060.114)\nStacktrace:\n0   chromedriver                        0x0000000108b27079 chromedriver + 4444281\n1   chromedriver                        0x0000000108ab3403 chromedriver + 3970051\n2   chromedriver                        0x000000010874e038 chromedriver + 409656\n3   chromedriver                        0x00000001087842fd chromedriver + 631549\n4   chromedriver                        0x0000000108784581 chromedriver + 632193\n5   chromedriver                        0x00000001087b64f4 chromedriver + 836852\n6   chromedriver                        0x00000001087a17bd chromedriver + 751549\n7   chromedriver                        0x00000001087b4221 chromedriver + 827937\n8   chromedriver                        0x00000001087a1683 chromedriver + 751235\n9   chromedriver                        0x0000000108777a45 chromedriver + 580165\n10  chromedriver                        0x0000000108778a95 chromedriver + 584341\n11  chromedriver                        0x0000000108af855d chromedriver + 4253021\n12  chromedriver                        0x0000000108afd3a1 chromedriver + 4273057\n13  chromedriver                        0x0000000108b0216f chromedriver + 4292975\n14  chromedriver                        0x0000000108afddea chromedriver + 4275690\n15  chromedriver                        0x0000000108ad754f chromedriver + 4117839\n16  chromedriver                        0x0000000108b17ed8 chromedriver + 4382424\n17  chromedriver                        0x0000000108b1805f chromedriver + 4382815\n18  chromedriver                        0x0000000108b2e8d5 chromedriver + 4475093\n19  libsystem_pthread.dylib             0x00007ff81c92d4e1 _pthread_start + 125\n20  libsystem_pthread.dylib             0x00007ff81c928f6b thread_start + 15\n",
     "output_type": "error",
     "traceback": [
      "\u001b[0;31m---------------------------------------------------------------------------\u001b[0m",
      "\u001b[0;31mNoSuchElementException\u001b[0m                    Traceback (most recent call last)",
      "Input \u001b[0;32mIn [9]\u001b[0m, in \u001b[0;36m<cell line: 14>\u001b[0;34m()\u001b[0m\n\u001b[1;32m     12\u001b[0m driver\u001b[38;5;241m.\u001b[39mget\u001b[38;5;241m=\u001b[39murl\n\u001b[1;32m     13\u001b[0m time\u001b[38;5;241m.\u001b[39msleep(\u001b[38;5;241m1\u001b[39m)\n\u001b[0;32m---> 14\u001b[0m load_button \u001b[38;5;241m=\u001b[39m \u001b[43mdriver\u001b[49m\u001b[38;5;241;43m.\u001b[39;49m\u001b[43mfind_element\u001b[49m\u001b[43m(\u001b[49m\u001b[43mBy\u001b[49m\u001b[38;5;241;43m.\u001b[39;49m\u001b[43mXPATH\u001b[49m\u001b[43m,\u001b[49m\u001b[38;5;124;43m'\u001b[39;49m\u001b[38;5;124;43m//*[@id=\u001b[39;49m\u001b[38;5;124;43m\"\u001b[39;49m\u001b[38;5;124;43mmain-page-content\u001b[39;49m\u001b[38;5;124;43m\"\u001b[39;49m\u001b[38;5;124;43m]/div/div[5]/button\u001b[39;49m\u001b[38;5;124;43m'\u001b[39;49m\u001b[43m)\u001b[49m\n\u001b[1;32m     15\u001b[0m load_button\u001b[38;5;241m.\u001b[39mclick()\n\u001b[1;32m     16\u001b[0m count\u001b[38;5;241m+\u001b[39m\u001b[38;5;241m=\u001b[39m\u001b[38;5;241m1\u001b[39m\n",
      "File \u001b[0;32m~/opt/anaconda3/envs/brother_rocks_workflow/lib/python3.10/site-packages/selenium/webdriver/remote/webdriver.py:857\u001b[0m, in \u001b[0;36mWebDriver.find_element\u001b[0;34m(self, by, value)\u001b[0m\n\u001b[1;32m    854\u001b[0m     by \u001b[38;5;241m=\u001b[39m By\u001b[38;5;241m.\u001b[39mCSS_SELECTOR\n\u001b[1;32m    855\u001b[0m     value \u001b[38;5;241m=\u001b[39m \u001b[38;5;124m'\u001b[39m\u001b[38;5;124m[name=\u001b[39m\u001b[38;5;124m\"\u001b[39m\u001b[38;5;132;01m%s\u001b[39;00m\u001b[38;5;124m\"\u001b[39m\u001b[38;5;124m]\u001b[39m\u001b[38;5;124m'\u001b[39m \u001b[38;5;241m%\u001b[39m value\n\u001b[0;32m--> 857\u001b[0m \u001b[38;5;28;01mreturn\u001b[39;00m \u001b[38;5;28;43mself\u001b[39;49m\u001b[38;5;241;43m.\u001b[39;49m\u001b[43mexecute\u001b[49m\u001b[43m(\u001b[49m\u001b[43mCommand\u001b[49m\u001b[38;5;241;43m.\u001b[39;49m\u001b[43mFIND_ELEMENT\u001b[49m\u001b[43m,\u001b[49m\u001b[43m \u001b[49m\u001b[43m{\u001b[49m\n\u001b[1;32m    858\u001b[0m \u001b[43m    \u001b[49m\u001b[38;5;124;43m'\u001b[39;49m\u001b[38;5;124;43musing\u001b[39;49m\u001b[38;5;124;43m'\u001b[39;49m\u001b[43m:\u001b[49m\u001b[43m \u001b[49m\u001b[43mby\u001b[49m\u001b[43m,\u001b[49m\n\u001b[1;32m    859\u001b[0m \u001b[43m    \u001b[49m\u001b[38;5;124;43m'\u001b[39;49m\u001b[38;5;124;43mvalue\u001b[39;49m\u001b[38;5;124;43m'\u001b[39;49m\u001b[43m:\u001b[49m\u001b[43m \u001b[49m\u001b[43mvalue\u001b[49m\u001b[43m}\u001b[49m\u001b[43m)\u001b[49m[\u001b[38;5;124m'\u001b[39m\u001b[38;5;124mvalue\u001b[39m\u001b[38;5;124m'\u001b[39m]\n",
      "File \u001b[0;32m~/opt/anaconda3/envs/brother_rocks_workflow/lib/python3.10/site-packages/selenium/webdriver/remote/webdriver.py:435\u001b[0m, in \u001b[0;36mWebDriver.execute\u001b[0;34m(self, driver_command, params)\u001b[0m\n\u001b[1;32m    433\u001b[0m response \u001b[38;5;241m=\u001b[39m \u001b[38;5;28mself\u001b[39m\u001b[38;5;241m.\u001b[39mcommand_executor\u001b[38;5;241m.\u001b[39mexecute(driver_command, params)\n\u001b[1;32m    434\u001b[0m \u001b[38;5;28;01mif\u001b[39;00m response:\n\u001b[0;32m--> 435\u001b[0m     \u001b[38;5;28;43mself\u001b[39;49m\u001b[38;5;241;43m.\u001b[39;49m\u001b[43merror_handler\u001b[49m\u001b[38;5;241;43m.\u001b[39;49m\u001b[43mcheck_response\u001b[49m\u001b[43m(\u001b[49m\u001b[43mresponse\u001b[49m\u001b[43m)\u001b[49m\n\u001b[1;32m    436\u001b[0m     response[\u001b[38;5;124m'\u001b[39m\u001b[38;5;124mvalue\u001b[39m\u001b[38;5;124m'\u001b[39m] \u001b[38;5;241m=\u001b[39m \u001b[38;5;28mself\u001b[39m\u001b[38;5;241m.\u001b[39m_unwrap_value(\n\u001b[1;32m    437\u001b[0m         response\u001b[38;5;241m.\u001b[39mget(\u001b[38;5;124m'\u001b[39m\u001b[38;5;124mvalue\u001b[39m\u001b[38;5;124m'\u001b[39m, \u001b[38;5;28;01mNone\u001b[39;00m))\n\u001b[1;32m    438\u001b[0m     \u001b[38;5;28;01mreturn\u001b[39;00m response\n",
      "File \u001b[0;32m~/opt/anaconda3/envs/brother_rocks_workflow/lib/python3.10/site-packages/selenium/webdriver/remote/errorhandler.py:247\u001b[0m, in \u001b[0;36mErrorHandler.check_response\u001b[0;34m(self, response)\u001b[0m\n\u001b[1;32m    245\u001b[0m         alert_text \u001b[38;5;241m=\u001b[39m value[\u001b[38;5;124m'\u001b[39m\u001b[38;5;124malert\u001b[39m\u001b[38;5;124m'\u001b[39m]\u001b[38;5;241m.\u001b[39mget(\u001b[38;5;124m'\u001b[39m\u001b[38;5;124mtext\u001b[39m\u001b[38;5;124m'\u001b[39m)\n\u001b[1;32m    246\u001b[0m     \u001b[38;5;28;01mraise\u001b[39;00m exception_class(message, screen, stacktrace, alert_text)  \u001b[38;5;66;03m# type: ignore[call-arg]  # mypy is not smart enough here\u001b[39;00m\n\u001b[0;32m--> 247\u001b[0m \u001b[38;5;28;01mraise\u001b[39;00m exception_class(message, screen, stacktrace)\n",
      "\u001b[0;31mNoSuchElementException\u001b[0m: Message: no such element: Unable to locate element: {\"method\":\"xpath\",\"selector\":\"//*[@id=\"main-page-content\"]/div/div[5]/button\"}\n  (Session info: chrome=103.0.5060.114)\nStacktrace:\n0   chromedriver                        0x0000000108b27079 chromedriver + 4444281\n1   chromedriver                        0x0000000108ab3403 chromedriver + 3970051\n2   chromedriver                        0x000000010874e038 chromedriver + 409656\n3   chromedriver                        0x00000001087842fd chromedriver + 631549\n4   chromedriver                        0x0000000108784581 chromedriver + 632193\n5   chromedriver                        0x00000001087b64f4 chromedriver + 836852\n6   chromedriver                        0x00000001087a17bd chromedriver + 751549\n7   chromedriver                        0x00000001087b4221 chromedriver + 827937\n8   chromedriver                        0x00000001087a1683 chromedriver + 751235\n9   chromedriver                        0x0000000108777a45 chromedriver + 580165\n10  chromedriver                        0x0000000108778a95 chromedriver + 584341\n11  chromedriver                        0x0000000108af855d chromedriver + 4253021\n12  chromedriver                        0x0000000108afd3a1 chromedriver + 4273057\n13  chromedriver                        0x0000000108b0216f chromedriver + 4292975\n14  chromedriver                        0x0000000108afddea chromedriver + 4275690\n15  chromedriver                        0x0000000108ad754f chromedriver + 4117839\n16  chromedriver                        0x0000000108b17ed8 chromedriver + 4382424\n17  chromedriver                        0x0000000108b1805f chromedriver + 4382815\n18  chromedriver                        0x0000000108b2e8d5 chromedriver + 4475093\n19  libsystem_pthread.dylib             0x00007ff81c92d4e1 _pthread_start + 125\n20  libsystem_pthread.dylib             0x00007ff81c928f6b thread_start + 15\n"
     ]
    }
   ],
   "source": [
    "from selenium import webdriver\n",
    "from selenium.webdriver.common.by import By\n",
    "import time\n",
    "\n",
    "\n",
    "    \n",
    "\n",
    "\n",
    "count=1    \n",
    "url=f'https://www.rottentomatoes.com/browse/movies_at_home/sort:popular?page={count}'\n",
    "driver = webdriver.Chrome(executable_path='./chromedriver')\n",
    "driver.get=url\n",
    "time.sleep(1)\n",
    "load_button = driver.find_element(By.XPATH,'//*[@id=\"main-page-content\"]/div/div[5]/button')\n",
    "load_button.click()\n",
    "count+=1\n",
    "time.sleep(1)\n",
    "# if count>50:\n",
    "    \n",
    "\n",
    "        \n",
    "#         r = requests.get(url)\n",
    "#         soup = BeautifulSoup(r.content, 'lxml')\n",
    "\n",
    "#         a_href=soup.find_all()\n",
    "\n",
    "#         test=soup.find_all('div', {\"class\":\"discovery-tiles__wrap\"})\n",
    "\n",
    "#         links = []\n",
    "\n",
    "#         for a in test:\n",
    "#             all_a = a.find_all('a')\n",
    "#             for link in all_a:\n",
    "#                 links.append(link.get('href'))\n",
    "\n",
    "\n",
    "#         links_test=[]     \n",
    "#         for link in links:\n",
    "#             link=f'https://www.rottentomatoes.com{link}'\n",
    "#             links_test.append(link)\n",
    "\n",
    "#         succesful_links = links_test\n",
    "\n",
    "#         tomato_dict = {}\n",
    "#         tomato_dict_more_info = {}\n",
    "\n",
    "#         for i in range(0,len(succesful_links)):\n",
    "\n",
    "#             if count>500:\n",
    "\n",
    "#                 r = requests.get(succesful_links[i])    \n",
    "#                 soup = BeautifulSoup(r.text, \"html.parser\")\n",
    "#                 audience_score= soup.find(\"score-board\").get('audiencescore')\n",
    "#                 tomato_score=soup.find(\"score-board\").get('tomatometerscore')\n",
    "#                 rating =soup.find(\"score-board\").get('rating')\n",
    "#                 movie_info_keys=soup.find(\"ul\",{\"class\":\"content-meta info\"}).find_all(\"li\")\n",
    "#                 movie_info_values=soup.find(\"ul\",{\"class\":\"content-meta info\"}).find_all(\"li\")\n",
    "\n",
    "#                 tomato_dict[names_of_movie[i]]={\"audience_score\":audience_score,\"tomato_score\":tomato_score,\"rating\":rating}\n",
    "#         ###keys \n",
    "#                 m_i_k_list = []\n",
    "#                 for li in movie_info_keys:\n",
    "#                     li = li.find('div').text\n",
    "#                     li=li.replace(\":\",\"\")\n",
    "#                     m_i_k_list.append(li)\n",
    "#         ###values \n",
    "#                 m_i_v_list = []\n",
    "#                 for meta in movie_info_values:\n",
    "#                     meta=meta.find('div', {\"class\":\"meta-value\"}).text\n",
    "#                     meta=meta.replace(\" \",\"\")\n",
    "#                     meta=meta.replace(\"\\n\",\"\")\n",
    "#                     m_i_v_list.append(meta)\n",
    "\n",
    "\n",
    "#                 zip_iterator = zip(m_i_k_list,m_i_v_list)\n",
    "#                 tomato_dict_more_info = {names_of_movie[i]:dict(zip_iterator)}\n",
    "\n",
    "\n",
    "\n",
    "#                 print(tomato_dict_more_info)\n",
    "\n",
    "       \n"
   ]
  },
  {
   "cell_type": "code",
   "execution_count": null,
   "id": "92b93717",
   "metadata": {},
   "outputs": [],
   "source": [
    "r = requests.get('https://www.rottentomatoes.com/browse/movies_at_home/sort:popular?page=340')\n",
    "soup = BeautifulSoup(r.content, 'lxml')\n",
    "\n",
    "a_href=soup.find_all()\n",
    "\n",
    "test=soup.find_all('div', {\"class\":\"discovery-tiles__wrap\"})\n",
    "\n",
    "links = []\n",
    "\n",
    "for a in test:\n",
    "    all_a = a.find_all('a')\n",
    "    for link in all_a:\n",
    "        links.append(link.get('href'))\n",
    "\n",
    "links_test=[]     \n",
    "for link in links:\n",
    "    link=f'https://www.rottentomatoes.com{link}'\n",
    "    links_test.append(link)\n",
    "\n",
    "succesful_links = links_test\n",
    "    \n",
    "tomato_dict = {}\n",
    "tomato_dict_more_info = {}\n",
    "    \n",
    "for i in range(0,len(succesful_links)):\n",
    "\n",
    "       \n",
    "\n",
    "    r = requests.get(succesful_links[i])    \n",
    "    soup = BeautifulSoup(r.text, \"html.parser\")\n",
    "    audience_score= soup.find(\"score-board\").get('audiencescore')\n",
    "    tomato_score=soup.find(\"score-board\").get('tomatometerscore')\n",
    "    rating =soup.find(\"score-board\").get('rating')\n",
    "    movie_info_keys=soup.find(\"ul\",{\"class\":\"content-meta info\"}).find_all(\"li\")\n",
    "    movie_info_values=soup.find(\"ul\",{\"class\":\"content-meta info\"}).find_all(\"li\")\n",
    "\n",
    "#     tomato_dict[names_of_movie[i]]={\"audience_score\":audience_score,\"tomato_score\":tomato_score,\"rating\":rating}\n",
    "    ###keys \n",
    "    m_i_k_list = []\n",
    "    for li in movie_info_keys:\n",
    "        li = li.find('div').text\n",
    "        li=li.replace(\":\",\"\")\n",
    "        m_i_k_list.append(li)\n",
    "    ###values \n",
    "    m_i_v_list = []\n",
    "    for meta in movie_info_values:\n",
    "        meta=meta.find('div', {\"class\":\"meta-value\"}).text\n",
    "        meta=meta.replace(\" \",\"\")\n",
    "        meta=meta.replace(\"\\n\",\"\")\n",
    "        m_i_v_list.append(meta)\n",
    "\n",
    "\n",
    "    zip_iterator = zip(m_i_k_list,m_i_v_list)\n",
    "    tomato_dict_more_info = {names_of_movie[i]:dict(zip_iterator)}\n",
    "\n",
    "\n",
    "\n",
    "    print(tomato_dict_more_info)\n",
    "\n",
    "        \n",
    "    "
   ]
  },
  {
   "cell_type": "code",
   "execution_count": null,
   "id": "4a9d6b0e",
   "metadata": {},
   "outputs": [],
   "source": []
  }
 ],
 "metadata": {
  "kernelspec": {
   "display_name": "Python (brother_rocks_workflow)",
   "language": "python",
   "name": "learn-env"
  },
  "language_info": {
   "codemirror_mode": {
    "name": "ipython",
    "version": 3
   },
   "file_extension": ".py",
   "mimetype": "text/x-python",
   "name": "python",
   "nbconvert_exporter": "python",
   "pygments_lexer": "ipython3",
   "version": "3.10.4"
  }
 },
 "nbformat": 4,
 "nbformat_minor": 5
}
