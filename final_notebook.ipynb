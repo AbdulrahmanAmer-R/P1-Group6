{
 "cells": [
  {
   "cell_type": "markdown",
   "metadata": {},
   "source": [
    "## Final Project Submission\n",
    "\n",
    "Please fill out:\n",
    "* Student name: Abdulrahman Aber, Benjamin Bai, Charles Pan, Kevin Rivera\n",
    "* Student pace: Full Time\n",
    "* Scheduled project review date/time: \n",
    "* Instructor name: David Elliott\n",
    "* Blog post URL:\n"
   ]
  },
  {
   "cell_type": "markdown",
   "metadata": {},
   "source": [
    "# Imports"
   ]
  },
  {
   "cell_type": "code",
   "execution_count": 1,
   "metadata": {},
   "outputs": [],
   "source": [
    "import pandas as pd\n",
    "import matplotlib.pyplot as plt\n",
    "import numpy as np\n",
    "import sqlite3 as sq\n",
    "conn = sq.connect('./zippedData/im.db/im.db')\n",
    "cur = conn.cursor()"
   ]
  },
  {
   "cell_type": "code",
   "execution_count": 2,
   "metadata": {
    "scrolled": true
   },
   "outputs": [],
   "source": [
    "bom_movie_gross_df = pd.read_csv('./zippedData/bom.movie_gross.csv.gz')"
   ]
  },
  {
   "cell_type": "code",
   "execution_count": 3,
   "metadata": {
    "scrolled": false
   },
   "outputs": [],
   "source": [
    "movie_basics_df = pd.read_sql('''select * from movie_basics''', conn)"
   ]
  },
  {
   "cell_type": "code",
   "execution_count": 4,
   "metadata": {
    "scrolled": true
   },
   "outputs": [],
   "source": [
    "directors_df = pd.read_sql(\"\"\"select * from directors\"\"\",conn)"
   ]
  },
  {
   "cell_type": "code",
   "execution_count": 5,
   "metadata": {},
   "outputs": [],
   "source": [
    "known_for_df = pd.read_sql(\"\"\"select * from known_for\"\"\",conn)"
   ]
  },
  {
   "cell_type": "code",
   "execution_count": 6,
   "metadata": {},
   "outputs": [],
   "source": [
    "movie_akas_df = pd.read_sql(\"\"\"select * from movie_akas\"\"\",conn)"
   ]
  },
  {
   "cell_type": "code",
   "execution_count": 7,
   "metadata": {},
   "outputs": [],
   "source": [
    "movie_ratings_df = pd.read_sql(\"\"\"select * from movie_ratings\"\"\",conn)"
   ]
  },
  {
   "cell_type": "code",
   "execution_count": 8,
   "metadata": {},
   "outputs": [],
   "source": [
    "persons_df = pd.read_sql(\"\"\"select * from persons\"\"\",conn)"
   ]
  },
  {
   "cell_type": "code",
   "execution_count": 9,
   "metadata": {},
   "outputs": [],
   "source": [
    "principals_df = pd.read_sql(\"\"\"select * from principals\"\"\",conn)"
   ]
  },
  {
   "cell_type": "code",
   "execution_count": 10,
   "metadata": {},
   "outputs": [],
   "source": [
    "writers_df = pd.read_sql(\"\"\"select * from writers\"\"\",conn)"
   ]
  },
  {
   "cell_type": "code",
   "execution_count": 11,
   "metadata": {},
   "outputs": [],
   "source": [
    "rt_movie_info_df = pd.read_csv('./zippedData/rt.movie_info.tsv.gz', sep='\\t')"
   ]
  },
  {
   "cell_type": "code",
   "execution_count": 12,
   "metadata": {},
   "outputs": [],
   "source": [
    "rt_reviews_df = pd.read_csv('./zippedData/rt.reviews.tsv.gz', sep='\\t', encoding= 'unicode_escape')"
   ]
  },
  {
   "cell_type": "code",
   "execution_count": 13,
   "metadata": {},
   "outputs": [],
   "source": [
    "tmdb_movies_df = pd.read_csv('./zippedData/tmdb.movies.csv.gz')"
   ]
  },
  {
   "cell_type": "code",
   "execution_count": 14,
   "metadata": {
    "scrolled": true
   },
   "outputs": [],
   "source": [
    "tn_movie_budgets_df = pd.read_csv('./zippedData/tn.movie_budgets.csv.gz',\n",
    "                                 parse_dates=['release_date'])"
   ]
  },
  {
   "cell_type": "markdown",
   "metadata": {},
   "source": [
    "# TN Movie Budgets Clean Up Process"
   ]
  },
  {
   "cell_type": "code",
   "execution_count": 15,
   "metadata": {},
   "outputs": [],
   "source": [
    "# Remove $ from production_budget, convert to float\n",
    "tn_movie_budgets_df['production_budget'] = tn_movie_budgets_df['production_budget'].str.replace(',', '').str.replace('$', '').astype(float)\n",
    "\n",
    "# Remove $ from domestic_gross, convert to float\n",
    "tn_movie_budgets_df['domestic_gross'] = tn_movie_budgets_df['domestic_gross'].str.replace(',', '').str.replace('$', '').astype(float)\n",
    "\n",
    "# Remove $ from worldwide_gross, convert to float\n",
    "tn_movie_budgets_df['worldwide_gross'] = tn_movie_budgets_df['worldwide_gross'].str.replace(',', '').str.replace('$', '').astype(float)\n",
    "\n",
    "# new column release_year from release_date to filter based on time frame in scope\n",
    "tn_movie_budgets_df['release_year'] = pd.DatetimeIndex(tn_movie_budgets_df['release_date']).year\n",
    "\n",
    "# time frame: 2010-Present; SAG definition of theatrical budget: > 2 million\n",
    "tn_movie_budgets_df = tn_movie_budgets_df[(tn_movie_budgets_df.release_year >= 2010) & (tn_movie_budgets_df.production_budget > 1999999)]"
   ]
  },
  {
   "cell_type": "markdown",
   "metadata": {},
   "source": [
    "# Merge TN Movie Budgets with IMDB Movie Basics for Genres Analysis"
   ]
  },
  {
   "cell_type": "code",
   "execution_count": 16,
   "metadata": {},
   "outputs": [],
   "source": [
    "# rename movie_basics column to match tn_movie_budgets\n",
    "movie_basics_df.rename(columns={\"primary_title\":\"movie\"}, inplace = True)\n",
    "\n",
    "# merge movie_budgets and imdb movie_basics\n",
    "moviebudgets_moviebasics_df = tn_movie_budgets_df.merge(movie_basics_df, how='inner', on='movie')\n",
    "\n",
    "# drop columns that are not relevant to Genre analysis\n",
    "moviebudgets_moviebasics_df.drop(columns = ['id','release_date', 'movie_id', 'original_title', 'runtime_minutes', 'domestic_gross' ],axis=1,inplace=True)\n",
    "\n",
    "# remove duplicate movies\n",
    "moviebudgets_moviebasics_df.drop_duplicates(subset='movie', keep='first', inplace=True, ignore_index=False)\n",
    "\n",
    "# add column for net_return\n",
    "moviebudgets_moviebasics_df['net_return'] = (moviebudgets_moviebasics_df['worldwide_gross'] - moviebudgets_moviebasics_df['production_budget'])\n",
    "\n",
    "# add column for ROI as a %\n",
    "moviebudgets_moviebasics_df['roi_percent'] = ((moviebudgets_moviebasics_df['net_return'] / moviebudgets_moviebasics_df['production_budget'])*100)"
   ]
  },
  {
   "cell_type": "code",
   "execution_count": null,
   "metadata": {},
   "outputs": [],
   "source": []
  }
 ],
 "metadata": {
  "kernelspec": {
   "display_name": "Python (learn-env)",
   "language": "python",
   "name": "learn-env"
  },
  "language_info": {
   "codemirror_mode": {
    "name": "ipython",
    "version": 3
   },
   "file_extension": ".py",
   "mimetype": "text/x-python",
   "name": "python",
   "nbconvert_exporter": "python",
   "pygments_lexer": "ipython3",
   "version": "3.8.5"
  }
 },
 "nbformat": 4,
 "nbformat_minor": 2
}
