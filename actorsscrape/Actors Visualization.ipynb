{
 "cells": [
  {
   "cell_type": "code",
   "execution_count": 1,
   "id": "31692efe",
   "metadata": {},
   "outputs": [],
   "source": [
    "import matplotlib.pyplot as plt"
   ]
  },
  {
   "cell_type": "code",
   "execution_count": 2,
   "id": "f7c2e796",
   "metadata": {},
   "outputs": [],
   "source": [
    "import pandas as pd"
   ]
  },
  {
   "cell_type": "code",
   "execution_count": 3,
   "id": "f5a5f8c3",
   "metadata": {},
   "outputs": [],
   "source": [
    "a = pd.read_csv(\"./Actors___.csv\")"
   ]
  },
  {
   "cell_type": "code",
   "execution_count": 4,
   "id": "a269539b",
   "metadata": {},
   "outputs": [
    {
     "data": {
      "text/html": [
       "<div>\n",
       "<style scoped>\n",
       "    .dataframe tbody tr th:only-of-type {\n",
       "        vertical-align: middle;\n",
       "    }\n",
       "\n",
       "    .dataframe tbody tr th {\n",
       "        vertical-align: top;\n",
       "    }\n",
       "\n",
       "    .dataframe thead th {\n",
       "        text-align: right;\n",
       "    }\n",
       "</style>\n",
       "<table border=\"1\" class=\"dataframe\">\n",
       "  <thead>\n",
       "    <tr style=\"text-align: right;\">\n",
       "      <th></th>\n",
       "      <th>Unnamed: 0</th>\n",
       "      <th>Actor</th>\n",
       "      <th>Gross Movie Earnings/Number of Movies</th>\n",
       "    </tr>\n",
       "  </thead>\n",
       "  <tbody>\n",
       "    <tr>\n",
       "      <th>0</th>\n",
       "      <td>0</td>\n",
       "      <td>Scarlett Johansson</td>\n",
       "      <td>453,777,860,</td>\n",
       "    </tr>\n",
       "    <tr>\n",
       "      <th>1</th>\n",
       "      <td>1</td>\n",
       "      <td>Robert Downey</td>\n",
       "      <td>334,793,724,</td>\n",
       "    </tr>\n",
       "    <tr>\n",
       "      <th>2</th>\n",
       "      <td>2</td>\n",
       "      <td>Samuel L. Jackson</td>\n",
       "      <td>224,071,059,</td>\n",
       "    </tr>\n",
       "    <tr>\n",
       "      <th>3</th>\n",
       "      <td>3</td>\n",
       "      <td>Chris Pratt</td>\n",
       "      <td>580,991,995,</td>\n",
       "    </tr>\n",
       "    <tr>\n",
       "      <th>4</th>\n",
       "      <td>4</td>\n",
       "      <td>Chris Hemsworth</td>\n",
       "      <td>460,645,316,</td>\n",
       "    </tr>\n",
       "    <tr>\n",
       "      <th>...</th>\n",
       "      <td>...</td>\n",
       "      <td>...</td>\n",
       "      <td>...</td>\n",
       "    </tr>\n",
       "    <tr>\n",
       "      <th>95</th>\n",
       "      <td>95</td>\n",
       "      <td>Channing Tatum</td>\n",
       "      <td>137,723,503,</td>\n",
       "    </tr>\n",
       "    <tr>\n",
       "      <th>96</th>\n",
       "      <td>96</td>\n",
       "      <td>Geoffrey Rush</td>\n",
       "      <td>258,223,222,</td>\n",
       "    </tr>\n",
       "    <tr>\n",
       "      <th>97</th>\n",
       "      <td>97</td>\n",
       "      <td>Mike Myers</td>\n",
       "      <td>292,932,685,</td>\n",
       "    </tr>\n",
       "    <tr>\n",
       "      <th>98</th>\n",
       "      <td>98</td>\n",
       "      <td>Sam Worthington</td>\n",
       "      <td>186,130,900,</td>\n",
       "    </tr>\n",
       "    <tr>\n",
       "      <th>99</th>\n",
       "      <td>99</td>\n",
       "      <td>Paul Walker</td>\n",
       "      <td>254,890,266</td>\n",
       "    </tr>\n",
       "  </tbody>\n",
       "</table>\n",
       "<p>100 rows × 3 columns</p>\n",
       "</div>"
      ],
      "text/plain": [
       "    Unnamed: 0               Actor Gross Movie Earnings/Number of Movies\n",
       "0            0  Scarlett Johansson                          453,777,860,\n",
       "1            1       Robert Downey                          334,793,724,\n",
       "2            2   Samuel L. Jackson                          224,071,059,\n",
       "3            3         Chris Pratt                          580,991,995,\n",
       "4            4     Chris Hemsworth                          460,645,316,\n",
       "..         ...                 ...                                   ...\n",
       "95          95      Channing Tatum                          137,723,503,\n",
       "96          96       Geoffrey Rush                          258,223,222,\n",
       "97          97          Mike Myers                          292,932,685,\n",
       "98          98     Sam Worthington                          186,130,900,\n",
       "99          99         Paul Walker                           254,890,266\n",
       "\n",
       "[100 rows x 3 columns]"
      ]
     },
     "execution_count": 4,
     "metadata": {},
     "output_type": "execute_result"
    }
   ],
   "source": [
    "a"
   ]
  },
  {
   "cell_type": "code",
   "execution_count": 5,
   "id": "3979b3cf",
   "metadata": {},
   "outputs": [],
   "source": [
    "del a['Unnamed: 0']"
   ]
  },
  {
   "cell_type": "code",
   "execution_count": 6,
   "id": "6720e1ea",
   "metadata": {},
   "outputs": [
    {
     "data": {
      "text/html": [
       "<div>\n",
       "<style scoped>\n",
       "    .dataframe tbody tr th:only-of-type {\n",
       "        vertical-align: middle;\n",
       "    }\n",
       "\n",
       "    .dataframe tbody tr th {\n",
       "        vertical-align: top;\n",
       "    }\n",
       "\n",
       "    .dataframe thead th {\n",
       "        text-align: right;\n",
       "    }\n",
       "</style>\n",
       "<table border=\"1\" class=\"dataframe\">\n",
       "  <thead>\n",
       "    <tr style=\"text-align: right;\">\n",
       "      <th></th>\n",
       "      <th>Actor</th>\n",
       "      <th>Gross Movie Earnings/Number of Movies</th>\n",
       "    </tr>\n",
       "  </thead>\n",
       "  <tbody>\n",
       "    <tr>\n",
       "      <th>0</th>\n",
       "      <td>Scarlett Johansson</td>\n",
       "      <td>453,777,860,</td>\n",
       "    </tr>\n",
       "    <tr>\n",
       "      <th>1</th>\n",
       "      <td>Robert Downey</td>\n",
       "      <td>334,793,724,</td>\n",
       "    </tr>\n",
       "    <tr>\n",
       "      <th>2</th>\n",
       "      <td>Samuel L. Jackson</td>\n",
       "      <td>224,071,059,</td>\n",
       "    </tr>\n",
       "    <tr>\n",
       "      <th>3</th>\n",
       "      <td>Chris Pratt</td>\n",
       "      <td>580,991,995,</td>\n",
       "    </tr>\n",
       "    <tr>\n",
       "      <th>4</th>\n",
       "      <td>Chris Hemsworth</td>\n",
       "      <td>460,645,316,</td>\n",
       "    </tr>\n",
       "    <tr>\n",
       "      <th>...</th>\n",
       "      <td>...</td>\n",
       "      <td>...</td>\n",
       "    </tr>\n",
       "    <tr>\n",
       "      <th>95</th>\n",
       "      <td>Channing Tatum</td>\n",
       "      <td>137,723,503,</td>\n",
       "    </tr>\n",
       "    <tr>\n",
       "      <th>96</th>\n",
       "      <td>Geoffrey Rush</td>\n",
       "      <td>258,223,222,</td>\n",
       "    </tr>\n",
       "    <tr>\n",
       "      <th>97</th>\n",
       "      <td>Mike Myers</td>\n",
       "      <td>292,932,685,</td>\n",
       "    </tr>\n",
       "    <tr>\n",
       "      <th>98</th>\n",
       "      <td>Sam Worthington</td>\n",
       "      <td>186,130,900,</td>\n",
       "    </tr>\n",
       "    <tr>\n",
       "      <th>99</th>\n",
       "      <td>Paul Walker</td>\n",
       "      <td>254,890,266</td>\n",
       "    </tr>\n",
       "  </tbody>\n",
       "</table>\n",
       "<p>100 rows × 2 columns</p>\n",
       "</div>"
      ],
      "text/plain": [
       "                 Actor Gross Movie Earnings/Number of Movies\n",
       "0   Scarlett Johansson                          453,777,860,\n",
       "1        Robert Downey                          334,793,724,\n",
       "2    Samuel L. Jackson                          224,071,059,\n",
       "3          Chris Pratt                          580,991,995,\n",
       "4      Chris Hemsworth                          460,645,316,\n",
       "..                 ...                                   ...\n",
       "95      Channing Tatum                          137,723,503,\n",
       "96       Geoffrey Rush                          258,223,222,\n",
       "97          Mike Myers                          292,932,685,\n",
       "98     Sam Worthington                          186,130,900,\n",
       "99         Paul Walker                           254,890,266\n",
       "\n",
       "[100 rows x 2 columns]"
      ]
     },
     "execution_count": 6,
     "metadata": {},
     "output_type": "execute_result"
    }
   ],
   "source": [
    "a"
   ]
  },
  {
   "cell_type": "code",
   "execution_count": 7,
   "id": "f4a6f376",
   "metadata": {},
   "outputs": [],
   "source": [
    "a['Gross Movie Earnings/Number of Movies']= a['Gross Movie Earnings/Number of Movies'].str.replace(\",\",\"\")"
   ]
  },
  {
   "cell_type": "code",
   "execution_count": 9,
   "id": "1095d1f4",
   "metadata": {},
   "outputs": [],
   "source": [
    "a['Gross Movie Earnings/Number of Movies']=a['Gross Movie Earnings/Number of Movies'].astype(int)"
   ]
  },
  {
   "cell_type": "code",
   "execution_count": 20,
   "id": "afab0a90",
   "metadata": {},
   "outputs": [],
   "source": [
    "b = a.head(10)"
   ]
  },
  {
   "cell_type": "markdown",
   "id": "5caf6f09",
   "metadata": {},
   "source": [
    "# Actors to (Box Count Gross of All Movies \n",
    "# they have been in divided by numbers they were in)"
   ]
  },
  {
   "cell_type": "code",
   "execution_count": 28,
   "id": "20260d35",
   "metadata": {},
   "outputs": [
    {
     "data": {
      "image/png": "[encoded data removed]",
      "text/plain": [
       "<Figure size 1008x864 with 1 Axes>"
      ]
     },
     "metadata": {
      "needs_background": "light"
     },
     "output_type": "display_data"
    }
   ],
   "source": [
    "b.plot(x=(\"Actor\"), y=(\"Gross Movie Earnings/Number of Movies\"), kind='barh',figsize=(14,12), );"
   ]
  },
  {
   "cell_type": "markdown",
   "id": "b51c428d",
   "metadata": {},
   "source": []
  }
 ],
 "metadata": {
  "kernelspec": {
   "display_name": "Python (brother_rocks_workflow)",
   "language": "python",
   "name": "learn-env"
  },
  "language_info": {
   "codemirror_mode": {
    "name": "ipython",
    "version": 3
   },
   "file_extension": ".py",
   "mimetype": "text/x-python",
   "name": "python",
   "nbconvert_exporter": "python",
   "pygments_lexer": "ipython3",
   "version": "3.10.4"
  }
 },
 "nbformat": 4,
 "nbformat_minor": 5
}
