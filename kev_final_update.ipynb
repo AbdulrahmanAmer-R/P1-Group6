{
 "cells": [
  {
   "cell_type": "markdown",
   "metadata": {},
   "source": [
    "## Final Project Submission\n",
    "\n",
    "Please fill out:\n",
    "* Student name: Abdulrahman Aber, Benjamin Bai, Charles Pan, Kevin Rivera\n",
    "* Student pace: Full Time\n",
    "* Scheduled project review date/time: \n",
    "* Instructor name: David Elliott\n",
    "* Blog post URL:\n"
   ]
  },
  {
   "cell_type": "markdown",
   "metadata": {},
   "source": [
    "# Imports"
   ]
  },
  {
   "cell_type": "code",
   "execution_count": 94,
   "metadata": {
    "scrolled": true
   },
   "outputs": [],
   "source": [
    "import pandas as pd\n",
    "import matplotlib.pyplot as plt\n",
    "import numpy as np\n",
    "import sqlite3 as sq\n",
    "import statistics as st\n",
    "import seaborn as sns\n",
    "from datetime import datetime"
   ]
  },
  {
   "cell_type": "markdown",
   "metadata": {},
   "source": [
    "# Release Date Month Visualizations "
   ]
  },
  {
   "cell_type": "code",
   "execution_count": 95,
   "metadata": {
    "scrolled": true
   },
   "outputs": [
    {
     "name": "stdout",
     "output_type": "stream",
     "text": [
      "<class 'pandas.core.frame.DataFrame'>\n",
      "RangeIndex: 5782 entries, 0 to 5781\n",
      "Data columns (total 6 columns):\n",
      " #   Column             Non-Null Count  Dtype \n",
      "---  ------             --------------  ----- \n",
      " 0   id                 5782 non-null   int64 \n",
      " 1   release_date       5782 non-null   object\n",
      " 2   movie              5782 non-null   object\n",
      " 3   production_budget  5782 non-null   object\n",
      " 4   domestic_gross     5782 non-null   object\n",
      " 5   worldwide_gross    5782 non-null   object\n",
      "dtypes: int64(1), object(5)\n",
      "memory usage: 271.2+ KB\n"
     ]
    }
   ],
   "source": [
    "#read tn movie file and check info\n",
    "tn_movies = pd.read_csv('./zippedData/tn.movie_budgets.csv.gz')\n",
    "tn_movies.info()\n"
   ]
  },
  {
   "cell_type": "code",
   "execution_count": 96,
   "metadata": {},
   "outputs": [
    {
     "data": {
      "text/html": [
       "<div>\n",
       "<style scoped>\n",
       "    .dataframe tbody tr th:only-of-type {\n",
       "        vertical-align: middle;\n",
       "    }\n",
       "\n",
       "    .dataframe tbody tr th {\n",
       "        vertical-align: top;\n",
       "    }\n",
       "\n",
       "    .dataframe thead th {\n",
       "        text-align: right;\n",
       "    }\n",
       "</style>\n",
       "<table border=\"1\" class=\"dataframe\">\n",
       "  <thead>\n",
       "    <tr style=\"text-align: right;\">\n",
       "      <th></th>\n",
       "      <th>id</th>\n",
       "      <th>release_date</th>\n",
       "      <th>movie</th>\n",
       "      <th>production_budget</th>\n",
       "      <th>domestic_gross</th>\n",
       "      <th>worldwide_gross</th>\n",
       "    </tr>\n",
       "  </thead>\n",
       "  <tbody>\n",
       "    <tr>\n",
       "      <th>0</th>\n",
       "      <td>1</td>\n",
       "      <td>Dec 18, 2009</td>\n",
       "      <td>Avatar</td>\n",
       "      <td>$425,000,000</td>\n",
       "      <td>$760,507,625</td>\n",
       "      <td>$2,776,345,279</td>\n",
       "    </tr>\n",
       "    <tr>\n",
       "      <th>1</th>\n",
       "      <td>2</td>\n",
       "      <td>May 20, 2011</td>\n",
       "      <td>Pirates of the Caribbean: On Stranger Tides</td>\n",
       "      <td>$410,600,000</td>\n",
       "      <td>$241,063,875</td>\n",
       "      <td>$1,045,663,875</td>\n",
       "    </tr>\n",
       "    <tr>\n",
       "      <th>2</th>\n",
       "      <td>3</td>\n",
       "      <td>Jun 7, 2019</td>\n",
       "      <td>Dark Phoenix</td>\n",
       "      <td>$350,000,000</td>\n",
       "      <td>$42,762,350</td>\n",
       "      <td>$149,762,350</td>\n",
       "    </tr>\n",
       "    <tr>\n",
       "      <th>3</th>\n",
       "      <td>4</td>\n",
       "      <td>May 1, 2015</td>\n",
       "      <td>Avengers: Age of Ultron</td>\n",
       "      <td>$330,600,000</td>\n",
       "      <td>$459,005,868</td>\n",
       "      <td>$1,403,013,963</td>\n",
       "    </tr>\n",
       "    <tr>\n",
       "      <th>4</th>\n",
       "      <td>5</td>\n",
       "      <td>Dec 15, 2017</td>\n",
       "      <td>Star Wars Ep. VIII: The Last Jedi</td>\n",
       "      <td>$317,000,000</td>\n",
       "      <td>$620,181,382</td>\n",
       "      <td>$1,316,721,747</td>\n",
       "    </tr>\n",
       "  </tbody>\n",
       "</table>\n",
       "</div>"
      ],
      "text/plain": [
       "   id  release_date                                        movie  \\\n",
       "0   1  Dec 18, 2009                                       Avatar   \n",
       "1   2  May 20, 2011  Pirates of the Caribbean: On Stranger Tides   \n",
       "2   3   Jun 7, 2019                                 Dark Phoenix   \n",
       "3   4   May 1, 2015                      Avengers: Age of Ultron   \n",
       "4   5  Dec 15, 2017            Star Wars Ep. VIII: The Last Jedi   \n",
       "\n",
       "  production_budget domestic_gross worldwide_gross  \n",
       "0      $425,000,000   $760,507,625  $2,776,345,279  \n",
       "1      $410,600,000   $241,063,875  $1,045,663,875  \n",
       "2      $350,000,000    $42,762,350    $149,762,350  \n",
       "3      $330,600,000   $459,005,868  $1,403,013,963  \n",
       "4      $317,000,000   $620,181,382  $1,316,721,747  "
      ]
     },
     "execution_count": 96,
     "metadata": {},
     "output_type": "execute_result"
    }
   ],
   "source": [
    "tn_movies.head()"
   ]
  },
  {
   "cell_type": "markdown",
   "metadata": {},
   "source": [
    "# Tn_Movies cleaning process "
   ]
  },
  {
   "cell_type": "code",
   "execution_count": 97,
   "metadata": {},
   "outputs": [],
   "source": [
    "#Get rid of punctuation on worldwide_gross column\n",
    "tn_movies['worldwide_gross'] = tn_movies['worldwide_gross'].replace('[\\$,]', '', regex=True)\n",
    "#Get rid of punctuation on domestic_gross column\n",
    "tn_movies['domestic_gross'] = tn_movies['domestic_gross'].replace('[\\$,]', '', regex=True)\n",
    "#Get rid of punctuation on production_budget column\n",
    "tn_movies['production_budget'] = tn_movies['production_budget'].replace('[\\$,]', '', regex=True)\n",
    "#change worldwide_gross column to float\n",
    "tn_movies['worldwide_gross'] = tn_movies['worldwide_gross'].astype(float)\n",
    "#change domestic_gross column to int\n",
    "tn_movies['domestic_gross'] = tn_movies['domestic_gross'].astype(int)\n",
    "#change production_budget column to int\n",
    "tn_movies['production_budget']=tn_movies['production_budget'].astype(int)\n",
    "#create a net_income column by taking domestic_gross and subtracting production budget\n",
    "tn_movies[\"net_income\"]=tn_movies['worldwide_gross']-tn_movies['production_budget']\n",
    "#create a cost_revenue_ratio by taking net income and dividing it by production budget\n",
    "tn_movies[\"Cost_Rev_Ratio\"]=((tn_movies['net_income'])/(tn_movies['production_budget']))*100\n",
    "#change all cost_rev values into int \n",
    "tn_movies[\"Cost_Rev_Ratio\"] =tn_movies[\"Cost_Rev_Ratio\"].astype(int)\n",
    "#change release_date column into datetime format\n",
    "tn_movies[\"release_date\"] = pd.to_datetime(tn_movies[\"release_date\"])\n",
    "#create a month and year column\n",
    "tn_movies['year'] = pd.DatetimeIndex(tn_movies['release_date']).year\n",
    "tn_movies['month'] = pd.DatetimeIndex(tn_movies['release_date']).month\n",
    "# time frame: 2010-Present & SAG definition of theatrical budget: > 2 million\n",
    "tn_movies_2010 = tn_movies[(tn_movies['production_budget'] > 1999999) & (tn_movies['year'] >= 2010)]"
   ]
  },
  {
   "cell_type": "code",
   "execution_count": 98,
   "metadata": {},
   "outputs": [
    {
     "name": "stdout",
     "output_type": "stream",
     "text": [
      "<class 'pandas.core.frame.DataFrame'>\n",
      "Int64Index: 1851 entries, 1 to 5000\n",
      "Data columns (total 10 columns):\n",
      " #   Column             Non-Null Count  Dtype         \n",
      "---  ------             --------------  -----         \n",
      " 0   id                 1851 non-null   int64         \n",
      " 1   release_date       1851 non-null   datetime64[ns]\n",
      " 2   movie              1851 non-null   object        \n",
      " 3   production_budget  1851 non-null   int32         \n",
      " 4   domestic_gross     1851 non-null   int32         \n",
      " 5   worldwide_gross    1851 non-null   float64       \n",
      " 6   net_income         1851 non-null   float64       \n",
      " 7   Cost_Rev_Ratio     1851 non-null   int32         \n",
      " 8   year               1851 non-null   int64         \n",
      " 9   month              1851 non-null   int64         \n",
      "dtypes: datetime64[ns](1), float64(2), int32(3), int64(3), object(1)\n",
      "memory usage: 137.4+ KB\n"
     ]
    }
   ],
   "source": [
    "tn_movies_2010.info()"
   ]
  },
  {
   "cell_type": "code",
   "execution_count": 99,
   "metadata": {},
   "outputs": [
    {
     "data": {
      "text/html": [
       "<div>\n",
       "<style scoped>\n",
       "    .dataframe tbody tr th:only-of-type {\n",
       "        vertical-align: middle;\n",
       "    }\n",
       "\n",
       "    .dataframe tbody tr th {\n",
       "        vertical-align: top;\n",
       "    }\n",
       "\n",
       "    .dataframe thead th {\n",
       "        text-align: right;\n",
       "    }\n",
       "</style>\n",
       "<table border=\"1\" class=\"dataframe\">\n",
       "  <thead>\n",
       "    <tr style=\"text-align: right;\">\n",
       "      <th></th>\n",
       "      <th>id</th>\n",
       "      <th>release_date</th>\n",
       "      <th>movie</th>\n",
       "      <th>production_budget</th>\n",
       "      <th>domestic_gross</th>\n",
       "      <th>worldwide_gross</th>\n",
       "      <th>net_income</th>\n",
       "      <th>Cost_Rev_Ratio</th>\n",
       "      <th>year</th>\n",
       "      <th>month</th>\n",
       "    </tr>\n",
       "  </thead>\n",
       "  <tbody>\n",
       "    <tr>\n",
       "      <th>1</th>\n",
       "      <td>2</td>\n",
       "      <td>2011-05-20</td>\n",
       "      <td>Pirates of the Caribbean: On Stranger Tides</td>\n",
       "      <td>410600000</td>\n",
       "      <td>241063875</td>\n",
       "      <td>1.045664e+09</td>\n",
       "      <td>6.350639e+08</td>\n",
       "      <td>154</td>\n",
       "      <td>2011</td>\n",
       "      <td>5</td>\n",
       "    </tr>\n",
       "    <tr>\n",
       "      <th>2</th>\n",
       "      <td>3</td>\n",
       "      <td>2019-06-07</td>\n",
       "      <td>Dark Phoenix</td>\n",
       "      <td>350000000</td>\n",
       "      <td>42762350</td>\n",
       "      <td>1.497624e+08</td>\n",
       "      <td>-2.002376e+08</td>\n",
       "      <td>-57</td>\n",
       "      <td>2019</td>\n",
       "      <td>6</td>\n",
       "    </tr>\n",
       "    <tr>\n",
       "      <th>3</th>\n",
       "      <td>4</td>\n",
       "      <td>2015-05-01</td>\n",
       "      <td>Avengers: Age of Ultron</td>\n",
       "      <td>330600000</td>\n",
       "      <td>459005868</td>\n",
       "      <td>1.403014e+09</td>\n",
       "      <td>1.072414e+09</td>\n",
       "      <td>324</td>\n",
       "      <td>2015</td>\n",
       "      <td>5</td>\n",
       "    </tr>\n",
       "    <tr>\n",
       "      <th>4</th>\n",
       "      <td>5</td>\n",
       "      <td>2017-12-15</td>\n",
       "      <td>Star Wars Ep. VIII: The Last Jedi</td>\n",
       "      <td>317000000</td>\n",
       "      <td>620181382</td>\n",
       "      <td>1.316722e+09</td>\n",
       "      <td>9.997217e+08</td>\n",
       "      <td>315</td>\n",
       "      <td>2017</td>\n",
       "      <td>12</td>\n",
       "    </tr>\n",
       "    <tr>\n",
       "      <th>5</th>\n",
       "      <td>6</td>\n",
       "      <td>2015-12-18</td>\n",
       "      <td>Star Wars Ep. VII: The Force Awakens</td>\n",
       "      <td>306000000</td>\n",
       "      <td>936662225</td>\n",
       "      <td>2.053311e+09</td>\n",
       "      <td>1.747311e+09</td>\n",
       "      <td>571</td>\n",
       "      <td>2015</td>\n",
       "      <td>12</td>\n",
       "    </tr>\n",
       "  </tbody>\n",
       "</table>\n",
       "</div>"
      ],
      "text/plain": [
       "   id release_date                                        movie  \\\n",
       "1   2   2011-05-20  Pirates of the Caribbean: On Stranger Tides   \n",
       "2   3   2019-06-07                                 Dark Phoenix   \n",
       "3   4   2015-05-01                      Avengers: Age of Ultron   \n",
       "4   5   2017-12-15            Star Wars Ep. VIII: The Last Jedi   \n",
       "5   6   2015-12-18         Star Wars Ep. VII: The Force Awakens   \n",
       "\n",
       "   production_budget  domestic_gross  worldwide_gross    net_income  \\\n",
       "1          410600000       241063875     1.045664e+09  6.350639e+08   \n",
       "2          350000000        42762350     1.497624e+08 -2.002376e+08   \n",
       "3          330600000       459005868     1.403014e+09  1.072414e+09   \n",
       "4          317000000       620181382     1.316722e+09  9.997217e+08   \n",
       "5          306000000       936662225     2.053311e+09  1.747311e+09   \n",
       "\n",
       "   Cost_Rev_Ratio  year  month  \n",
       "1             154  2011      5  \n",
       "2             -57  2019      6  \n",
       "3             324  2015      5  \n",
       "4             315  2017     12  \n",
       "5             571  2015     12  "
      ]
     },
     "execution_count": 99,
     "metadata": {},
     "output_type": "execute_result"
    }
   ],
   "source": [
    "tn_movies_2010.head()"
   ]
  },
  {
   "cell_type": "code",
   "execution_count": 100,
   "metadata": {},
   "outputs": [],
   "source": [
    "#created a list with all the Cost_Rev_Ratios in tn_movies_2010\n",
    "Cost_Rev_Ratio = [x for x in tn_movies_2010[\"Cost_Rev_Ratio\"]] \n",
    "#created a list of all the month value associated with each cost_rev_ratio\n",
    "Month = [x for x in tn_movies_2010['month']]\n",
    "#mapped both list into a master list as tuples\n",
    "Cost_Rev_Ratio_Month = list(map(lambda *x: x, Month, Cost_Rev_Ratio))\n",
    "#created a function that would take in associated number and append a new list of Cost_Rev_Ratio based on associated month value\n",
    "#get the mean of the list by associated month  \n",
    "def month_mean(num):\n",
    "    x = []\n",
    "    for index, tuple in enumerate(Cost_Rev_Ratio_Month):\n",
    "        element_one = tuple[0]\n",
    "        element_two = tuple[1]\n",
    "        if element_one == num:\n",
    "            x.append(element_two)\n",
    "    return(st.mean(x))\n",
    "#created a function that would take in associated number and append a new list of Cost_Rev_Ratio based on associated month value\n",
    "#get the median of the list by associated month \n",
    "def month_median(num):\n",
    "    x = []\n",
    "    for index, tuple in enumerate(Cost_Rev_Ratio_Month):\n",
    "        element_one = tuple[0]\n",
    "        element_two = tuple[1]\n",
    "        if element_one == num:\n",
    "            x.append(element_two)\n",
    "    return(st.median(x))"
   ]
  },
  {
   "cell_type": "code",
   "execution_count": 101,
   "metadata": {},
   "outputs": [],
   "source": [
    "#created dictionary to map month_index to month_list\n",
    "month_index = [1,2,3,4,5,6,7,8,9,10,11,12]\n",
    "month_list = ['Jan','Feb','Mar','Apr','May','June','July','Aug','Sept','Oct','Nov','Dec']\n",
    "mapped_months = dict(map(lambda *x: x, month_index, month_list))"
   ]
  },
  {
   "cell_type": "code",
   "execution_count": 105,
   "metadata": {},
   "outputs": [],
   "source": [
    "#made two list using functions above of all medians per month and means per month \n",
    "by_month_mean_list = []\n",
    "by_month_median_list = []\n",
    "for num in mapped_months.keys():\n",
    "    by_month_mean_list.append(month_mean(num))\n",
    "    by_month_median_list.append(month_median(num))"
   ]
  },
  {
   "cell_type": "code",
   "execution_count": 106,
   "metadata": {},
   "outputs": [],
   "source": [
    "#created two dictionaries that mapped values of the two list above to associated month \n",
    "month_mean = dict(map(lambda *x: x, month_list, by_month_mean_list))\n",
    "month_median = dict(map(lambda *x: x, month_list, by_month_median_list))"
   ]
  },
  {
   "cell_type": "code",
   "execution_count": 107,
   "metadata": {},
   "outputs": [
    {
     "data": {
      "text/plain": [
       "{'Jan': 242.28571428571428,\n",
       " 'Feb': 215.30714285714285,\n",
       " 'Mar': 151.95209580838323,\n",
       " 'Apr': 156.03947368421052,\n",
       " 'May': 211.47058823529412,\n",
       " 'June': 234.1631205673759,\n",
       " 'July': 288.6136363636364,\n",
       " 'Aug': 194.85034013605443,\n",
       " 'Sept': 159.99397590361446,\n",
       " 'Oct': 270.6309523809524,\n",
       " 'Nov': 233.86335403726707,\n",
       " 'Dec': 136.70697674418605}"
      ]
     },
     "execution_count": 107,
     "metadata": {},
     "output_type": "execute_result"
    }
   ],
   "source": [
    "month_mean"
   ]
  },
  {
   "cell_type": "code",
   "execution_count": 108,
   "metadata": {},
   "outputs": [
    {
     "data": {
      "text/plain": [
       "{'Jan': 76.0,\n",
       " 'Feb': 98.5,\n",
       " 'Mar': 77,\n",
       " 'Apr': 66.0,\n",
       " 'May': 127.0,\n",
       " 'June': 103,\n",
       " 'July': 167.5,\n",
       " 'Aug': 94,\n",
       " 'Sept': 67.0,\n",
       " 'Oct': 50.0,\n",
       " 'Nov': 125,\n",
       " 'Dec': 72}"
      ]
     },
     "execution_count": 108,
     "metadata": {},
     "output_type": "execute_result"
    }
   ],
   "source": [
    "month_median"
   ]
  },
  {
   "cell_type": "markdown",
   "metadata": {},
   "source": [
    "# Visualization of Month to Cost_Rev_Ratio of all data in tn_movies_2010"
   ]
  },
  {
   "cell_type": "code",
   "execution_count": 90,
   "metadata": {
    "scrolled": false
   },
   "outputs": [
    {
     "data": {
      "image/png": "[encoded data removed]",
      "text/plain": [
       "<Figure size 432x288 with 1 Axes>"
      ]
     },
     "metadata": {},
     "output_type": "display_data"
    }
   ],
   "source": [
    "df = pd.DataFrame({'Month': Month,\n",
    "                   'Cost_Rev_Ratio': Cost_Rev_Ratio,})\n",
    "#set seaborn plotting aesthetics\n",
    "sns.set(style='white')\n",
    "\n",
    "#create grouped bar chart\n",
    "sns.barplot(x='Month', y='Cost_Rev_Ratio',  data=df);"
   ]
  },
  {
   "cell_type": "markdown",
   "metadata": {},
   "source": [
    "# Visualization of Month to Cost_Rev_Ratio by mean of months "
   ]
  },
  {
   "cell_type": "code",
   "execution_count": 91,
   "metadata": {
    "scrolled": true
   },
   "outputs": [
    {
     "data": {
      "image/png": "[encoded data removed]",
      "text/plain": [
       "<Figure size 432x288 with 1 Axes>"
      ]
     },
     "metadata": {},
     "output_type": "display_data"
    }
   ],
   "source": [
    "df1 = pd.DataFrame({'Month': month_mean.keys(),\n",
    "                   'Cost_Rev_Ratio': month_mean.values(),})\n",
    "#set seaborn plotting aesthetics\n",
    "sns.set(style='white')\n",
    "\n",
    "#create grouped bar chart\n",
    "sns.barplot(x='Month', y='Cost_Rev_Ratio',  data=df1);"
   ]
  },
  {
   "cell_type": "markdown",
   "metadata": {},
   "source": [
    "# Visualization of Month to Cost_Rev_Ratio by median of months"
   ]
  },
  {
   "cell_type": "code",
   "execution_count": 110,
   "metadata": {},
   "outputs": [
    {
     "data": {
      "image/png": "[encoded data removed]",
      "text/plain": [
       "<Figure size 432x288 with 1 Axes>"
      ]
     },
     "metadata": {},
     "output_type": "display_data"
    }
   ],
   "source": [
    "df2 = pd.DataFrame({'Month': month_median.keys(),\n",
    "                   'Cost_Rev_Ratio': month_median.values(),})\n",
    "#set seaborn plotting aesthetics\n",
    "sns.set(style='white')\n",
    "\n",
    "#create grouped bar chart\n",
    "sns.barplot(x='Month', y='Cost_Rev_Ratio',  data=df2);"
   ]
  },
  {
   "cell_type": "code",
   "execution_count": null,
   "metadata": {},
   "outputs": [],
   "source": []
  }
 ],
 "metadata": {
  "kernelspec": {
   "display_name": "Python (learn-env)",
   "language": "python",
   "name": "learn-env"
  },
  "language_info": {
   "codemirror_mode": {
    "name": "ipython",
    "version": 3
   },
   "file_extension": ".py",
   "mimetype": "text/x-python",
   "name": "python",
   "nbconvert_exporter": "python",
   "pygments_lexer": "ipython3",
   "version": "3.8.5"
  }
 },
 "nbformat": 4,
 "nbformat_minor": 2
}
