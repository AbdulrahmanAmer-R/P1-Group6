{
 "cells": [
  {
   "cell_type": "markdown",
   "id": "a1d60364",
   "metadata": {},
   "source": [
    "# More Actor Metrics Were Needed So We Scraped\n"
   ]
  },
  {
   "cell_type": "code",
   "execution_count": 1,
   "id": "ad1d3b46",
   "metadata": {},
   "outputs": [],
   "source": [
    "import pandas as pd"
   ]
  },
  {
   "cell_type": "code",
   "execution_count": 2,
   "id": "6a42106b",
   "metadata": {},
   "outputs": [],
   "source": [
    "df = pd.read_csv(\"./actors.csv\")"
   ]
  },
  {
   "cell_type": "code",
   "execution_count": 3,
   "id": "c025dcc9",
   "metadata": {},
   "outputs": [
    {
     "data": {
      "text/html": [
       "<div>\n",
       "<style scoped>\n",
       "    .dataframe tbody tr th:only-of-type {\n",
       "        vertical-align: middle;\n",
       "    }\n",
       "\n",
       "    .dataframe tbody tr th {\n",
       "        vertical-align: top;\n",
       "    }\n",
       "\n",
       "    .dataframe thead th {\n",
       "        text-align: right;\n",
       "    }\n",
       "</style>\n",
       "<table border=\"1\" class=\"dataframe\">\n",
       "  <thead>\n",
       "    <tr style=\"text-align: right;\">\n",
       "      <th></th>\n",
       "      <th>actor</th>\n",
       "      <th>Gross Earnings by movie starred in / number of movies starred in</th>\n",
       "    </tr>\n",
       "  </thead>\n",
       "  <tbody>\n",
       "    <tr>\n",
       "      <th>0</th>\n",
       "      <td>Scarlett Johansson,Robert Downey, Jr.,Samuel L...</td>\n",
       "      <td>$453,777,860,$334,793,724,$224,071,059,$580,99...</td>\n",
       "    </tr>\n",
       "  </tbody>\n",
       "</table>\n",
       "</div>"
      ],
      "text/plain": [
       "                                               actor  \\\n",
       "0  Scarlett Johansson,Robert Downey, Jr.,Samuel L...   \n",
       "\n",
       "  Gross Earnings by movie starred in / number of movies starred in  \n",
       "0  $453,777,860,$334,793,724,$224,071,059,$580,99...                "
      ]
     },
     "execution_count": 3,
     "metadata": {},
     "output_type": "execute_result"
    }
   ],
   "source": [
    "df"
   ]
  },
  {
   "cell_type": "markdown",
   "id": "df00ea17",
   "metadata": {},
   "source": [
    "# Cleaning the data"
   ]
  },
  {
   "cell_type": "code",
   "execution_count": 4,
   "id": "7cf31f8f",
   "metadata": {},
   "outputs": [],
   "source": [
    "actors_expanded = df['actor'].str.split(',', expand=True)"
   ]
  },
  {
   "cell_type": "code",
   "execution_count": 5,
   "id": "0a3878ac",
   "metadata": {},
   "outputs": [],
   "source": [
    "a = actors_expanded.T"
   ]
  },
  {
   "cell_type": "code",
   "execution_count": 7,
   "id": "00b9bbbc",
   "metadata": {},
   "outputs": [],
   "source": [
    "a.drop(2, inplace=True)"
   ]
  },
  {
   "cell_type": "code",
   "execution_count": 10,
   "id": "74aad576",
   "metadata": {},
   "outputs": [],
   "source": [
    "a.reset_index(inplace=True)"
   ]
  },
  {
   "cell_type": "code",
   "execution_count": 11,
   "id": "69051e8d",
   "metadata": {},
   "outputs": [
    {
     "data": {
      "text/html": [
       "<div>\n",
       "<style scoped>\n",
       "    .dataframe tbody tr th:only-of-type {\n",
       "        vertical-align: middle;\n",
       "    }\n",
       "\n",
       "    .dataframe tbody tr th {\n",
       "        vertical-align: top;\n",
       "    }\n",
       "\n",
       "    .dataframe thead th {\n",
       "        text-align: right;\n",
       "    }\n",
       "</style>\n",
       "<table border=\"1\" class=\"dataframe\">\n",
       "  <thead>\n",
       "    <tr style=\"text-align: right;\">\n",
       "      <th></th>\n",
       "      <th>index</th>\n",
       "      <th>0</th>\n",
       "    </tr>\n",
       "  </thead>\n",
       "  <tbody>\n",
       "    <tr>\n",
       "      <th>0</th>\n",
       "      <td>0</td>\n",
       "      <td>Scarlett Johansson</td>\n",
       "    </tr>\n",
       "    <tr>\n",
       "      <th>1</th>\n",
       "      <td>1</td>\n",
       "      <td>Robert Downey</td>\n",
       "    </tr>\n",
       "    <tr>\n",
       "      <th>2</th>\n",
       "      <td>3</td>\n",
       "      <td>Samuel L. Jackson</td>\n",
       "    </tr>\n",
       "    <tr>\n",
       "      <th>3</th>\n",
       "      <td>4</td>\n",
       "      <td>Chris Pratt</td>\n",
       "    </tr>\n",
       "    <tr>\n",
       "      <th>4</th>\n",
       "      <td>5</td>\n",
       "      <td>Chris Hemsworth</td>\n",
       "    </tr>\n",
       "    <tr>\n",
       "      <th>...</th>\n",
       "      <td>...</td>\n",
       "      <td>...</td>\n",
       "    </tr>\n",
       "    <tr>\n",
       "      <th>95</th>\n",
       "      <td>96</td>\n",
       "      <td>Channing Tatum</td>\n",
       "    </tr>\n",
       "    <tr>\n",
       "      <th>96</th>\n",
       "      <td>97</td>\n",
       "      <td>Geoffrey Rush</td>\n",
       "    </tr>\n",
       "    <tr>\n",
       "      <th>97</th>\n",
       "      <td>98</td>\n",
       "      <td>Mike Myers</td>\n",
       "    </tr>\n",
       "    <tr>\n",
       "      <th>98</th>\n",
       "      <td>99</td>\n",
       "      <td>Sam Worthington</td>\n",
       "    </tr>\n",
       "    <tr>\n",
       "      <th>99</th>\n",
       "      <td>100</td>\n",
       "      <td>Paul Walker</td>\n",
       "    </tr>\n",
       "  </tbody>\n",
       "</table>\n",
       "<p>100 rows × 2 columns</p>\n",
       "</div>"
      ],
      "text/plain": [
       "    index                   0\n",
       "0       0  Scarlett Johansson\n",
       "1       1       Robert Downey\n",
       "2       3   Samuel L. Jackson\n",
       "3       4         Chris Pratt\n",
       "4       5     Chris Hemsworth\n",
       "..    ...                 ...\n",
       "95     96      Channing Tatum\n",
       "96     97       Geoffrey Rush\n",
       "97     98          Mike Myers\n",
       "98     99     Sam Worthington\n",
       "99    100         Paul Walker\n",
       "\n",
       "[100 rows x 2 columns]"
      ]
     },
     "execution_count": 11,
     "metadata": {},
     "output_type": "execute_result"
    }
   ],
   "source": [
    "a"
   ]
  },
  {
   "cell_type": "code",
   "execution_count": 13,
   "id": "554f840d",
   "metadata": {},
   "outputs": [
    {
     "ename": "SyntaxError",
     "evalue": "invalid syntax (2724222250.py, line 1)",
     "output_type": "error",
     "traceback": [
      "\u001b[0;36m  Input \u001b[0;32mIn [13]\u001b[0;36m\u001b[0m\n\u001b[0;31m    Average Earnings = df['Gross Earnings by movie starred in / number of movies starred in'].str.split(',', expand=True)\u001b[0m\n\u001b[0m            ^\u001b[0m\n\u001b[0;31mSyntaxError\u001b[0m\u001b[0;31m:\u001b[0m invalid syntax\n"
     ]
    }
   ],
   "source": [
    "Average Earnings = df['Gross Earnings by movie starred in / number of movies starred in'].str.split(',', expand=True)"
   ]
  },
  {
   "cell_type": "code",
   "execution_count": 15,
   "id": "70e72f7a",
   "metadata": {},
   "outputs": [],
   "source": [
    "b = df['Gross Earnings by movie starred in / number of movies starred in']"
   ]
  },
  {
   "cell_type": "code",
   "execution_count": 16,
   "id": "8e484361",
   "metadata": {},
   "outputs": [],
   "source": [
    "c = b.str.split('$', expand=True)"
   ]
  },
  {
   "cell_type": "code",
   "execution_count": 18,
   "id": "d63d4c3a",
   "metadata": {},
   "outputs": [],
   "source": [
    "c = c.T"
   ]
  },
  {
   "cell_type": "code",
   "execution_count": 20,
   "id": "b83dc9fa",
   "metadata": {},
   "outputs": [],
   "source": [
    "c.drop(0, inplace=True)"
   ]
  },
  {
   "cell_type": "code",
   "execution_count": 24,
   "id": "858260cc",
   "metadata": {},
   "outputs": [],
   "source": [
    "c.reset_index(inplace=True)"
   ]
  },
  {
   "cell_type": "markdown",
   "id": "9a642998",
   "metadata": {},
   "source": [
    "# Merging the data"
   ]
  },
  {
   "cell_type": "code",
   "execution_count": 25,
   "id": "8bf454f3",
   "metadata": {},
   "outputs": [],
   "source": [
    "test = pd.concat([a,c], axis=1)"
   ]
  },
  {
   "cell_type": "code",
   "execution_count": 26,
   "id": "d685d3c1",
   "metadata": {},
   "outputs": [
    {
     "data": {
      "text/html": [
       "<div>\n",
       "<style scoped>\n",
       "    .dataframe tbody tr th:only-of-type {\n",
       "        vertical-align: middle;\n",
       "    }\n",
       "\n",
       "    .dataframe tbody tr th {\n",
       "        vertical-align: top;\n",
       "    }\n",
       "\n",
       "    .dataframe thead th {\n",
       "        text-align: right;\n",
       "    }\n",
       "</style>\n",
       "<table border=\"1\" class=\"dataframe\">\n",
       "  <thead>\n",
       "    <tr style=\"text-align: right;\">\n",
       "      <th></th>\n",
       "      <th>index</th>\n",
       "      <th>0</th>\n",
       "      <th>index</th>\n",
       "      <th>0</th>\n",
       "    </tr>\n",
       "  </thead>\n",
       "  <tbody>\n",
       "    <tr>\n",
       "      <th>0</th>\n",
       "      <td>0</td>\n",
       "      <td>Scarlett Johansson</td>\n",
       "      <td>1</td>\n",
       "      <td>453,777,860,</td>\n",
       "    </tr>\n",
       "    <tr>\n",
       "      <th>1</th>\n",
       "      <td>1</td>\n",
       "      <td>Robert Downey</td>\n",
       "      <td>2</td>\n",
       "      <td>334,793,724,</td>\n",
       "    </tr>\n",
       "    <tr>\n",
       "      <th>2</th>\n",
       "      <td>3</td>\n",
       "      <td>Samuel L. Jackson</td>\n",
       "      <td>3</td>\n",
       "      <td>224,071,059,</td>\n",
       "    </tr>\n",
       "    <tr>\n",
       "      <th>3</th>\n",
       "      <td>4</td>\n",
       "      <td>Chris Pratt</td>\n",
       "      <td>4</td>\n",
       "      <td>580,991,995,</td>\n",
       "    </tr>\n",
       "    <tr>\n",
       "      <th>4</th>\n",
       "      <td>5</td>\n",
       "      <td>Chris Hemsworth</td>\n",
       "      <td>5</td>\n",
       "      <td>460,645,316,</td>\n",
       "    </tr>\n",
       "    <tr>\n",
       "      <th>...</th>\n",
       "      <td>...</td>\n",
       "      <td>...</td>\n",
       "      <td>...</td>\n",
       "      <td>...</td>\n",
       "    </tr>\n",
       "    <tr>\n",
       "      <th>95</th>\n",
       "      <td>96</td>\n",
       "      <td>Channing Tatum</td>\n",
       "      <td>96</td>\n",
       "      <td>137,723,503,</td>\n",
       "    </tr>\n",
       "    <tr>\n",
       "      <th>96</th>\n",
       "      <td>97</td>\n",
       "      <td>Geoffrey Rush</td>\n",
       "      <td>97</td>\n",
       "      <td>258,223,222,</td>\n",
       "    </tr>\n",
       "    <tr>\n",
       "      <th>97</th>\n",
       "      <td>98</td>\n",
       "      <td>Mike Myers</td>\n",
       "      <td>98</td>\n",
       "      <td>292,932,685,</td>\n",
       "    </tr>\n",
       "    <tr>\n",
       "      <th>98</th>\n",
       "      <td>99</td>\n",
       "      <td>Sam Worthington</td>\n",
       "      <td>99</td>\n",
       "      <td>186,130,900,</td>\n",
       "    </tr>\n",
       "    <tr>\n",
       "      <th>99</th>\n",
       "      <td>100</td>\n",
       "      <td>Paul Walker</td>\n",
       "      <td>100</td>\n",
       "      <td>254,890,266</td>\n",
       "    </tr>\n",
       "  </tbody>\n",
       "</table>\n",
       "<p>100 rows × 4 columns</p>\n",
       "</div>"
      ],
      "text/plain": [
       "    index                   0  index             0\n",
       "0       0  Scarlett Johansson      1  453,777,860,\n",
       "1       1       Robert Downey      2  334,793,724,\n",
       "2       3   Samuel L. Jackson      3  224,071,059,\n",
       "3       4         Chris Pratt      4  580,991,995,\n",
       "4       5     Chris Hemsworth      5  460,645,316,\n",
       "..    ...                 ...    ...           ...\n",
       "95     96      Channing Tatum     96  137,723,503,\n",
       "96     97       Geoffrey Rush     97  258,223,222,\n",
       "97     98          Mike Myers     98  292,932,685,\n",
       "98     99     Sam Worthington     99  186,130,900,\n",
       "99    100         Paul Walker    100   254,890,266\n",
       "\n",
       "[100 rows x 4 columns]"
      ]
     },
     "execution_count": 26,
     "metadata": {},
     "output_type": "execute_result"
    }
   ],
   "source": [
    "test"
   ]
  },
  {
   "cell_type": "code",
   "execution_count": 27,
   "id": "358fe255",
   "metadata": {},
   "outputs": [],
   "source": [
    "del test['index']"
   ]
  },
  {
   "cell_type": "code",
   "execution_count": 28,
   "id": "83a3d7e6",
   "metadata": {},
   "outputs": [
    {
     "data": {
      "text/html": [
       "<div>\n",
       "<style scoped>\n",
       "    .dataframe tbody tr th:only-of-type {\n",
       "        vertical-align: middle;\n",
       "    }\n",
       "\n",
       "    .dataframe tbody tr th {\n",
       "        vertical-align: top;\n",
       "    }\n",
       "\n",
       "    .dataframe thead th {\n",
       "        text-align: right;\n",
       "    }\n",
       "</style>\n",
       "<table border=\"1\" class=\"dataframe\">\n",
       "  <thead>\n",
       "    <tr style=\"text-align: right;\">\n",
       "      <th></th>\n",
       "      <th>0</th>\n",
       "      <th>0</th>\n",
       "    </tr>\n",
       "  </thead>\n",
       "  <tbody>\n",
       "    <tr>\n",
       "      <th>0</th>\n",
       "      <td>Scarlett Johansson</td>\n",
       "      <td>453,777,860,</td>\n",
       "    </tr>\n",
       "    <tr>\n",
       "      <th>1</th>\n",
       "      <td>Robert Downey</td>\n",
       "      <td>334,793,724,</td>\n",
       "    </tr>\n",
       "    <tr>\n",
       "      <th>2</th>\n",
       "      <td>Samuel L. Jackson</td>\n",
       "      <td>224,071,059,</td>\n",
       "    </tr>\n",
       "    <tr>\n",
       "      <th>3</th>\n",
       "      <td>Chris Pratt</td>\n",
       "      <td>580,991,995,</td>\n",
       "    </tr>\n",
       "    <tr>\n",
       "      <th>4</th>\n",
       "      <td>Chris Hemsworth</td>\n",
       "      <td>460,645,316,</td>\n",
       "    </tr>\n",
       "    <tr>\n",
       "      <th>...</th>\n",
       "      <td>...</td>\n",
       "      <td>...</td>\n",
       "    </tr>\n",
       "    <tr>\n",
       "      <th>95</th>\n",
       "      <td>Channing Tatum</td>\n",
       "      <td>137,723,503,</td>\n",
       "    </tr>\n",
       "    <tr>\n",
       "      <th>96</th>\n",
       "      <td>Geoffrey Rush</td>\n",
       "      <td>258,223,222,</td>\n",
       "    </tr>\n",
       "    <tr>\n",
       "      <th>97</th>\n",
       "      <td>Mike Myers</td>\n",
       "      <td>292,932,685,</td>\n",
       "    </tr>\n",
       "    <tr>\n",
       "      <th>98</th>\n",
       "      <td>Sam Worthington</td>\n",
       "      <td>186,130,900,</td>\n",
       "    </tr>\n",
       "    <tr>\n",
       "      <th>99</th>\n",
       "      <td>Paul Walker</td>\n",
       "      <td>254,890,266</td>\n",
       "    </tr>\n",
       "  </tbody>\n",
       "</table>\n",
       "<p>100 rows × 2 columns</p>\n",
       "</div>"
      ],
      "text/plain": [
       "                     0             0\n",
       "0   Scarlett Johansson  453,777,860,\n",
       "1        Robert Downey  334,793,724,\n",
       "2    Samuel L. Jackson  224,071,059,\n",
       "3          Chris Pratt  580,991,995,\n",
       "4      Chris Hemsworth  460,645,316,\n",
       "..                 ...           ...\n",
       "95      Channing Tatum  137,723,503,\n",
       "96       Geoffrey Rush  258,223,222,\n",
       "97          Mike Myers  292,932,685,\n",
       "98     Sam Worthington  186,130,900,\n",
       "99         Paul Walker   254,890,266\n",
       "\n",
       "[100 rows x 2 columns]"
      ]
     },
     "execution_count": 28,
     "metadata": {},
     "output_type": "execute_result"
    }
   ],
   "source": [
    "test"
   ]
  },
  {
   "cell_type": "markdown",
   "id": "7ea34ec3",
   "metadata": {},
   "source": [
    "# Brand New CSV"
   ]
  },
  {
   "cell_type": "code",
   "execution_count": 31,
   "id": "a188c2f3",
   "metadata": {},
   "outputs": [],
   "source": [
    "test.columns= ['Actor', 'Gross Movie Earnings/Number of Movies']"
   ]
  },
  {
   "cell_type": "code",
   "execution_count": 32,
   "id": "f6341694",
   "metadata": {},
   "outputs": [
    {
     "data": {
      "text/html": [
       "<div>\n",
       "<style scoped>\n",
       "    .dataframe tbody tr th:only-of-type {\n",
       "        vertical-align: middle;\n",
       "    }\n",
       "\n",
       "    .dataframe tbody tr th {\n",
       "        vertical-align: top;\n",
       "    }\n",
       "\n",
       "    .dataframe thead th {\n",
       "        text-align: right;\n",
       "    }\n",
       "</style>\n",
       "<table border=\"1\" class=\"dataframe\">\n",
       "  <thead>\n",
       "    <tr style=\"text-align: right;\">\n",
       "      <th></th>\n",
       "      <th>Actor</th>\n",
       "      <th>Gross Movie Earnings/Number of Movies</th>\n",
       "    </tr>\n",
       "  </thead>\n",
       "  <tbody>\n",
       "    <tr>\n",
       "      <th>0</th>\n",
       "      <td>Scarlett Johansson</td>\n",
       "      <td>453,777,860,</td>\n",
       "    </tr>\n",
       "    <tr>\n",
       "      <th>1</th>\n",
       "      <td>Robert Downey</td>\n",
       "      <td>334,793,724,</td>\n",
       "    </tr>\n",
       "    <tr>\n",
       "      <th>2</th>\n",
       "      <td>Samuel L. Jackson</td>\n",
       "      <td>224,071,059,</td>\n",
       "    </tr>\n",
       "    <tr>\n",
       "      <th>3</th>\n",
       "      <td>Chris Pratt</td>\n",
       "      <td>580,991,995,</td>\n",
       "    </tr>\n",
       "    <tr>\n",
       "      <th>4</th>\n",
       "      <td>Chris Hemsworth</td>\n",
       "      <td>460,645,316,</td>\n",
       "    </tr>\n",
       "    <tr>\n",
       "      <th>...</th>\n",
       "      <td>...</td>\n",
       "      <td>...</td>\n",
       "    </tr>\n",
       "    <tr>\n",
       "      <th>95</th>\n",
       "      <td>Channing Tatum</td>\n",
       "      <td>137,723,503,</td>\n",
       "    </tr>\n",
       "    <tr>\n",
       "      <th>96</th>\n",
       "      <td>Geoffrey Rush</td>\n",
       "      <td>258,223,222,</td>\n",
       "    </tr>\n",
       "    <tr>\n",
       "      <th>97</th>\n",
       "      <td>Mike Myers</td>\n",
       "      <td>292,932,685,</td>\n",
       "    </tr>\n",
       "    <tr>\n",
       "      <th>98</th>\n",
       "      <td>Sam Worthington</td>\n",
       "      <td>186,130,900,</td>\n",
       "    </tr>\n",
       "    <tr>\n",
       "      <th>99</th>\n",
       "      <td>Paul Walker</td>\n",
       "      <td>254,890,266</td>\n",
       "    </tr>\n",
       "  </tbody>\n",
       "</table>\n",
       "<p>100 rows × 2 columns</p>\n",
       "</div>"
      ],
      "text/plain": [
       "                 Actor Gross Movie Earnings/Number of Movies\n",
       "0   Scarlett Johansson                          453,777,860,\n",
       "1        Robert Downey                          334,793,724,\n",
       "2    Samuel L. Jackson                          224,071,059,\n",
       "3          Chris Pratt                          580,991,995,\n",
       "4      Chris Hemsworth                          460,645,316,\n",
       "..                 ...                                   ...\n",
       "95      Channing Tatum                          137,723,503,\n",
       "96       Geoffrey Rush                          258,223,222,\n",
       "97          Mike Myers                          292,932,685,\n",
       "98     Sam Worthington                          186,130,900,\n",
       "99         Paul Walker                           254,890,266\n",
       "\n",
       "[100 rows x 2 columns]"
      ]
     },
     "execution_count": 32,
     "metadata": {},
     "output_type": "execute_result"
    }
   ],
   "source": [
    "test"
   ]
  },
  {
   "cell_type": "code",
   "execution_count": 34,
   "id": "8dfcc7b1",
   "metadata": {},
   "outputs": [],
   "source": [
    "test.to_csv('Actors___.csv')"
   ]
  },
  {
   "cell_type": "code",
   "execution_count": null,
   "id": "c93d6a28",
   "metadata": {},
   "outputs": [],
   "source": []
  }
 ],
 "metadata": {
  "kernelspec": {
   "display_name": "Python (brother_rocks_workflow)",
   "language": "python",
   "name": "learn-env"
  },
  "language_info": {
   "codemirror_mode": {
    "name": "ipython",
    "version": 3
   },
   "file_extension": ".py",
   "mimetype": "text/x-python",
   "name": "python",
   "nbconvert_exporter": "python",
   "pygments_lexer": "ipython3",
   "version": "3.10.4"
  }
 },
 "nbformat": 4,
 "nbformat_minor": 5
}
