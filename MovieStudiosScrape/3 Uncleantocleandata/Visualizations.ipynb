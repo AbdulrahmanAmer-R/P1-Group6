{
 "cells": [
  {
   "cell_type": "markdown",
   "id": "d6c440e0",
   "metadata": {},
   "source": [
    "# Visualizing Studios Profit"
   ]
  },
  {
   "cell_type": "markdown",
   "id": "4587a8aa",
   "metadata": {},
   "source": [
    "I have cleaned data and it is consistent to each studios TOP 100.\n",
    "\n",
    "Now, it's time to visualize!!\n",
    "\n",
    "Let's import pandas at matplotlib for this"
   ]
  },
  {
   "cell_type": "code",
   "execution_count": 1,
   "id": "35b54f77",
   "metadata": {},
   "outputs": [],
   "source": [
    "import pandas as pd\n",
    "import matplotlib.pyplot as plt"
   ]
  },
  {
   "cell_type": "markdown",
   "id": "e79567fb",
   "metadata": {},
   "source": [
    "I want to open every CSV, luckily they all have the same shape :)"
   ]
  },
  {
   "cell_type": "code",
   "execution_count": 2,
   "id": "8bba9c02",
   "metadata": {},
   "outputs": [],
   "source": [
    "sony = pd.read_csv(\"./sony_cleaned.csv\")\n",
    "disney = pd.read_csv(\"./disney_cleaned.csv\")\n",
    "paramount = pd.read_csv(\"./paramount_pictures_cleaned.csv\")\n",
    "universal = pd.read_csv(\"./universal_cleaned.csv\")\n",
    "warner_bros=pd.read_csv(\"./warner_bros_cleaned.csv\")"
   ]
  },
  {
   "cell_type": "markdown",
   "id": "1b620826",
   "metadata": {},
   "source": [
    "Great! I have access to all of them. Note, the column names are all the \n",
    "same here. I want to see how much money there top 100 has made each studio. "
   ]
  },
  {
   "cell_type": "code",
   "execution_count": 3,
   "id": "325d02d1",
   "metadata": {},
   "outputs": [
    {
     "data": {
      "text/plain": [
       "0     1,886,306,016,\n",
       "1     1,132,532,832,\n",
       "2     1,110,526,981,\n",
       "3       961,613,199,\n",
       "4       894,860,230,\n",
       "           ...      \n",
       "95      215,448,997,\n",
       "96      215,300,000,\n",
       "97      214,974,953,\n",
       "98      213,500,000,\n",
       "99       213,463,976\n",
       "Name: worldwide box office, Length: 100, dtype: object"
      ]
     },
     "execution_count": 3,
     "metadata": {},
     "output_type": "execute_result"
    }
   ],
   "source": [
    "sony['worldwide box office']"
   ]
  },
  {
   "cell_type": "markdown",
   "id": "3dbf62e6",
   "metadata": {},
   "source": [
    "But the cleaned CSV has dtype as object in place...got to shift all to integers across all of our data sets."
   ]
  },
  {
   "cell_type": "code",
   "execution_count": 4,
   "id": "d29a3033",
   "metadata": {},
   "outputs": [],
   "source": [
    "sony['worldwide box office']=sony['worldwide box office'].str.replace(',','')\n",
    "disney['worldwide box office']=disney['worldwide box office'].str.replace(',','')\n",
    "paramount['worldwide box office']=paramount['worldwide box office'].str.replace(',','')\n",
    "universal['worldwide box office']=universal['worldwide box office'].str.replace(',','')\n",
    "warner_bros['worldwide box office']=warner_bros['worldwide box office'].str.replace(',','')\n"
   ]
  },
  {
   "cell_type": "code",
   "execution_count": 5,
   "id": "436203d9",
   "metadata": {},
   "outputs": [],
   "source": [
    "sony['worldwide box office']=sony['worldwide box office'].astype(int)\n",
    "disney['worldwide box office']=disney['worldwide box office'].astype(int)\n",
    "paramount['worldwide box office']=paramount['worldwide box office'].astype(int)\n",
    "universal['worldwide box office']=universal['worldwide box office'].astype(int)\n",
    "warner_bros['worldwide box office']=warner_bros['worldwide box office'].astype(int)"
   ]
  },
  {
   "cell_type": "code",
   "execution_count": 6,
   "id": "9dcd4704",
   "metadata": {},
   "outputs": [
    {
     "name": "stdout",
     "output_type": "stream",
     "text": [
      "<class 'pandas.core.frame.DataFrame'>\n",
      "RangeIndex: 100 entries, 0 to 99\n",
      "Data columns (total 6 columns):\n",
      " #   Column                    Non-Null Count  Dtype \n",
      "---  ------                    --------------  ----- \n",
      " 0   Unnamed: 0                100 non-null    int64 \n",
      " 1   year                      100 non-null    int64 \n",
      " 2   movie name                100 non-null    object\n",
      " 3   worldwide box office      100 non-null    int64 \n",
      " 4   domestic box office       100 non-null    object\n",
      " 5   international box office  100 non-null    object\n",
      "dtypes: int64(3), object(3)\n",
      "memory usage: 4.8+ KB\n"
     ]
    }
   ],
   "source": [
    "sony.info()"
   ]
  },
  {
   "cell_type": "markdown",
   "id": "8ea52a21",
   "metadata": {},
   "source": [
    "Great, our year as well as our worldwide box office is now an integer. We can play around!"
   ]
  },
  {
   "cell_type": "code",
   "execution_count": 7,
   "id": "2e08f8e2",
   "metadata": {},
   "outputs": [
    {
     "name": "stdout",
     "output_type": "stream",
     "text": [
      "40872118446 73250389923 42885992652 45109671722 53166856188\n"
     ]
    }
   ],
   "source": [
    "sony_top_100_gross = sony['worldwide box office'].sum()\n",
    "disney_top_100_gross=disney['worldwide box office'].sum()\n",
    "paramount_top_100_gross=paramount['worldwide box office'].sum()\n",
    "universal_top_100_gross=universal['worldwide box office'].sum()\n",
    "warner_bros_top_100_gross=warner_bros['worldwide box office'].sum()\n",
    "\n",
    "print(sony_top_100_gross,\n",
    "     disney_top_100_gross,\n",
    "     paramount_top_100_gross,\n",
    "     universal_top_100_gross,\n",
    "     warner_bros_top_100_gross)"
   ]
  },
  {
   "cell_type": "markdown",
   "id": "e877703d",
   "metadata": {},
   "source": [
    "That's pretty awesome to see, let's take a look at what this looks like on a graph!"
   ]
  },
  {
   "cell_type": "code",
   "execution_count": 8,
   "id": "5c1bdbd6",
   "metadata": {},
   "outputs": [
    {
     "data": {
      "image/png": "[encoded data removed]",
      "text/plain": [
       "<Figure size 432x288 with 1 Axes>"
      ]
     },
     "metadata": {
      "needs_background": "light"
     },
     "output_type": "display_data"
    }
   ],
   "source": [
    "objects = []\n",
    "x = ['Sony', 'Disney', 'Paramount', 'Universal', 'Warner Brothers']\n",
    "y = [sony_top_100_gross,disney_top_100_gross,paramount_top_100_gross,universal_top_100_gross,\n",
    "              warner_bros_top_100_gross]\n",
    "\n",
    "plt.bar(x,y)\n",
    "plt.ylim(75000000)\n",
    "plt.ylabel('In Dollars by Billion')\n",
    "plt.title('Gross Earnings for Top 100 of all time')\n",
    "\n",
    "plt.show()"
   ]
  },
  {
   "cell_type": "markdown",
   "id": "c00fe0fd",
   "metadata": {},
   "source": [
    "However Bomb Squad really wants to see how they have been doing since 2015...well lets see!"
   ]
  },
  {
   "cell_type": "code",
   "execution_count": 9,
   "id": "d23ce9ac",
   "metadata": {},
   "outputs": [],
   "source": [
    "sony_2015_plus = sony[sony['year']>2015]\n",
    "paramount_2015_plus = paramount[paramount['year']>2015]\n",
    "universal_2015_plus = universal[universal['year']>2015]\n",
    "disney_2015_plus = disney[disney['year']>2015]\n",
    "warner_bros_2015_plus = warner_bros[warner_bros['year']>2015]"
   ]
  },
  {
   "cell_type": "code",
   "execution_count": 10,
   "id": "0f6de7ce",
   "metadata": {},
   "outputs": [
    {
     "data": {
      "text/html": [
       "<div>\n",
       "<style scoped>\n",
       "    .dataframe tbody tr th:only-of-type {\n",
       "        vertical-align: middle;\n",
       "    }\n",
       "\n",
       "    .dataframe tbody tr th {\n",
       "        vertical-align: top;\n",
       "    }\n",
       "\n",
       "    .dataframe thead th {\n",
       "        text-align: right;\n",
       "    }\n",
       "</style>\n",
       "<table border=\"1\" class=\"dataframe\">\n",
       "  <thead>\n",
       "    <tr style=\"text-align: right;\">\n",
       "      <th></th>\n",
       "      <th>Unnamed: 0</th>\n",
       "      <th>year</th>\n",
       "      <th>movie name</th>\n",
       "      <th>worldwide box office</th>\n",
       "      <th>domestic box office</th>\n",
       "      <th>international box office</th>\n",
       "    </tr>\n",
       "  </thead>\n",
       "  <tbody>\n",
       "    <tr>\n",
       "      <th>0</th>\n",
       "      <td>0</td>\n",
       "      <td>2019</td>\n",
       "      <td>Avengers: Endgame</td>\n",
       "      <td>2797800564</td>\n",
       "      <td>858,373,000,</td>\n",
       "      <td>1,939,427,564,</td>\n",
       "    </tr>\n",
       "    <tr>\n",
       "      <th>2</th>\n",
       "      <td>2</td>\n",
       "      <td>2018</td>\n",
       "      <td>Avengers: Infinity War</td>\n",
       "      <td>2048359754</td>\n",
       "      <td>678,815,482,</td>\n",
       "      <td>1,369,544,272,</td>\n",
       "    </tr>\n",
       "    <tr>\n",
       "      <th>3</th>\n",
       "      <td>3</td>\n",
       "      <td>2019</td>\n",
       "      <td>The Lion King</td>\n",
       "      <td>1651023152</td>\n",
       "      <td>543,638,043,</td>\n",
       "      <td>1,107,385,109,</td>\n",
       "    </tr>\n",
       "    <tr>\n",
       "      <th>5</th>\n",
       "      <td>5</td>\n",
       "      <td>2019</td>\n",
       "      <td>Frozen II</td>\n",
       "      <td>1445182280</td>\n",
       "      <td>477,373,578,</td>\n",
       "      <td>967,808,702,</td>\n",
       "    </tr>\n",
       "    <tr>\n",
       "      <th>7</th>\n",
       "      <td>7</td>\n",
       "      <td>2018</td>\n",
       "      <td>Black Panther</td>\n",
       "      <td>1336494321</td>\n",
       "      <td>700,059,566,</td>\n",
       "      <td>636,434,755,</td>\n",
       "    </tr>\n",
       "    <tr>\n",
       "      <th>8</th>\n",
       "      <td>8</td>\n",
       "      <td>2017</td>\n",
       "      <td>Star Wars Ep. VIII: The Last Jedi</td>\n",
       "      <td>1331635141</td>\n",
       "      <td>620,181,382,</td>\n",
       "      <td>711,453,759,</td>\n",
       "    </tr>\n",
       "    <tr>\n",
       "      <th>9</th>\n",
       "      <td>9</td>\n",
       "      <td>2017</td>\n",
       "      <td>Beauty and the Beast</td>\n",
       "      <td>1270818066</td>\n",
       "      <td>504,014,165,</td>\n",
       "      <td>766,803,901,</td>\n",
       "    </tr>\n",
       "    <tr>\n",
       "      <th>11</th>\n",
       "      <td>11</td>\n",
       "      <td>2018</td>\n",
       "      <td>Incredibles 2</td>\n",
       "      <td>1242805359</td>\n",
       "      <td>608,581,744,</td>\n",
       "      <td>634,223,615,</td>\n",
       "    </tr>\n",
       "    <tr>\n",
       "      <th>13</th>\n",
       "      <td>13</td>\n",
       "      <td>2016</td>\n",
       "      <td>Captain America: Civil War</td>\n",
       "      <td>1151918521</td>\n",
       "      <td>408,084,349,</td>\n",
       "      <td>743,834,172,</td>\n",
       "    </tr>\n",
       "    <tr>\n",
       "      <th>14</th>\n",
       "      <td>14</td>\n",
       "      <td>2019</td>\n",
       "      <td>Captain Marvel</td>\n",
       "      <td>1129727388</td>\n",
       "      <td>426,829,839,</td>\n",
       "      <td>702,897,549,</td>\n",
       "    </tr>\n",
       "    <tr>\n",
       "      <th>15</th>\n",
       "      <td>15</td>\n",
       "      <td>2019</td>\n",
       "      <td>Toy Story 4</td>\n",
       "      <td>1073080329</td>\n",
       "      <td>434,038,008,</td>\n",
       "      <td>639,042,321,</td>\n",
       "    </tr>\n",
       "    <tr>\n",
       "      <th>16</th>\n",
       "      <td>16</td>\n",
       "      <td>2019</td>\n",
       "      <td>Star Wars: The Rise of Skywalker</td>\n",
       "      <td>1072848487</td>\n",
       "      <td>515,202,542,</td>\n",
       "      <td>557,645,945,</td>\n",
       "    </tr>\n",
       "    <tr>\n",
       "      <th>19</th>\n",
       "      <td>19</td>\n",
       "      <td>2016</td>\n",
       "      <td>Rogue One: A Star Wars Story</td>\n",
       "      <td>1055135598</td>\n",
       "      <td>532,177,324,</td>\n",
       "      <td>522,958,274,</td>\n",
       "    </tr>\n",
       "    <tr>\n",
       "      <th>20</th>\n",
       "      <td>20</td>\n",
       "      <td>2019</td>\n",
       "      <td>Aladdin</td>\n",
       "      <td>1046649706</td>\n",
       "      <td>355,559,216,</td>\n",
       "      <td>691,090,490,</td>\n",
       "    </tr>\n",
       "    <tr>\n",
       "      <th>23</th>\n",
       "      <td>23</td>\n",
       "      <td>2016</td>\n",
       "      <td>Finding Dory</td>\n",
       "      <td>1025006125</td>\n",
       "      <td>486,295,561,</td>\n",
       "      <td>538,710,564,</td>\n",
       "    </tr>\n",
       "    <tr>\n",
       "      <th>24</th>\n",
       "      <td>24</td>\n",
       "      <td>2016</td>\n",
       "      <td>Zootopia</td>\n",
       "      <td>1004629935</td>\n",
       "      <td>341,268,248,</td>\n",
       "      <td>663,361,687,</td>\n",
       "    </tr>\n",
       "    <tr>\n",
       "      <th>27</th>\n",
       "      <td>27</td>\n",
       "      <td>2016</td>\n",
       "      <td>The Jungle Book</td>\n",
       "      <td>953554418</td>\n",
       "      <td>364,001,123,</td>\n",
       "      <td>589,553,295,</td>\n",
       "    </tr>\n",
       "    <tr>\n",
       "      <th>28</th>\n",
       "      <td>28</td>\n",
       "      <td>2022</td>\n",
       "      <td>Doctor Strange in the Multiverse of Madness</td>\n",
       "      <td>947375894</td>\n",
       "      <td>411,065,727,</td>\n",
       "      <td>536,310,167,</td>\n",
       "    </tr>\n",
       "    <tr>\n",
       "      <th>30</th>\n",
       "      <td>30</td>\n",
       "      <td>2017</td>\n",
       "      <td>Guardians of the Galaxy Vol 2</td>\n",
       "      <td>869113101</td>\n",
       "      <td>389,813,101,</td>\n",
       "      <td>479,300,000,</td>\n",
       "    </tr>\n",
       "    <tr>\n",
       "      <th>32</th>\n",
       "      <td>32</td>\n",
       "      <td>2017</td>\n",
       "      <td>Thor: Ragnarok</td>\n",
       "      <td>850482778</td>\n",
       "      <td>315,058,289,</td>\n",
       "      <td>535,424,489,</td>\n",
       "    </tr>\n",
       "    <tr>\n",
       "      <th>33</th>\n",
       "      <td>33</td>\n",
       "      <td>2017</td>\n",
       "      <td>Coco</td>\n",
       "      <td>797666425</td>\n",
       "      <td>210,460,015,</td>\n",
       "      <td>587,206,410,</td>\n",
       "    </tr>\n",
       "    <tr>\n",
       "      <th>34</th>\n",
       "      <td>34</td>\n",
       "      <td>2017</td>\n",
       "      <td>Pirates of the Caribbean: Dead Men Tell No Tales</td>\n",
       "      <td>794861794</td>\n",
       "      <td>172,558,876,</td>\n",
       "      <td>622,302,918,</td>\n",
       "    </tr>\n",
       "    <tr>\n",
       "      <th>41</th>\n",
       "      <td>41</td>\n",
       "      <td>2016</td>\n",
       "      <td>Doctor Strange</td>\n",
       "      <td>676354481</td>\n",
       "      <td>232,641,920,</td>\n",
       "      <td>443,712,561,</td>\n",
       "    </tr>\n",
       "    <tr>\n",
       "      <th>46</th>\n",
       "      <td>46</td>\n",
       "      <td>2016</td>\n",
       "      <td>Moana</td>\n",
       "      <td>634965560</td>\n",
       "      <td>248,757,044,</td>\n",
       "      <td>386,208,516,</td>\n",
       "    </tr>\n",
       "    <tr>\n",
       "      <th>49</th>\n",
       "      <td>49</td>\n",
       "      <td>2018</td>\n",
       "      <td>Ant-Man and the Wasp</td>\n",
       "      <td>623144660</td>\n",
       "      <td>216,648,740,</td>\n",
       "      <td>406,495,920,</td>\n",
       "    </tr>\n",
       "    <tr>\n",
       "      <th>57</th>\n",
       "      <td>57</td>\n",
       "      <td>2018</td>\n",
       "      <td>Ralph Breaks The Internet</td>\n",
       "      <td>529290830</td>\n",
       "      <td>201,091,711,</td>\n",
       "      <td>328,199,119,</td>\n",
       "    </tr>\n",
       "    <tr>\n",
       "      <th>63</th>\n",
       "      <td>63</td>\n",
       "      <td>2019</td>\n",
       "      <td>Maleficent: Mistress of Evil</td>\n",
       "      <td>489346495</td>\n",
       "      <td>113,929,605,</td>\n",
       "      <td>375,416,890,</td>\n",
       "    </tr>\n",
       "    <tr>\n",
       "      <th>70</th>\n",
       "      <td>70</td>\n",
       "      <td>2021</td>\n",
       "      <td>Shang-Chi and the Legend of the Ten Rings</td>\n",
       "      <td>432243292</td>\n",
       "      <td>224,543,292,</td>\n",
       "      <td>207,700,000,</td>\n",
       "    </tr>\n",
       "    <tr>\n",
       "      <th>73</th>\n",
       "      <td>73</td>\n",
       "      <td>2021</td>\n",
       "      <td>Eternals</td>\n",
       "      <td>402064929</td>\n",
       "      <td>164,870,264,</td>\n",
       "      <td>237,194,665,</td>\n",
       "    </tr>\n",
       "    <tr>\n",
       "      <th>75</th>\n",
       "      <td>75</td>\n",
       "      <td>2018</td>\n",
       "      <td>Solo: A Star Wars Story</td>\n",
       "      <td>393151347</td>\n",
       "      <td>213,767,512,</td>\n",
       "      <td>179,383,835,</td>\n",
       "    </tr>\n",
       "    <tr>\n",
       "      <th>77</th>\n",
       "      <td>77</td>\n",
       "      <td>2017</td>\n",
       "      <td>Cars 3</td>\n",
       "      <td>383541369</td>\n",
       "      <td>152,901,115,</td>\n",
       "      <td>230,640,254,</td>\n",
       "    </tr>\n",
       "    <tr>\n",
       "      <th>78</th>\n",
       "      <td>78</td>\n",
       "      <td>2021</td>\n",
       "      <td>Black Widow</td>\n",
       "      <td>379751655</td>\n",
       "      <td>183,651,655,</td>\n",
       "      <td>196,100,000,</td>\n",
       "    </tr>\n",
       "    <tr>\n",
       "      <th>82</th>\n",
       "      <td>82</td>\n",
       "      <td>2019</td>\n",
       "      <td>Dumbo</td>\n",
       "      <td>353166307</td>\n",
       "      <td>114,766,307,</td>\n",
       "      <td>238,400,000,</td>\n",
       "    </tr>\n",
       "    <tr>\n",
       "      <th>84</th>\n",
       "      <td>84</td>\n",
       "      <td>2018</td>\n",
       "      <td>Mary Poppins Returns</td>\n",
       "      <td>348901032</td>\n",
       "      <td>171,958,438,</td>\n",
       "      <td>176,942,594,</td>\n",
       "    </tr>\n",
       "    <tr>\n",
       "      <th>94</th>\n",
       "      <td>94</td>\n",
       "      <td>2022</td>\n",
       "      <td>Thor: Love and Thunder</td>\n",
       "      <td>315347613</td>\n",
       "      <td>156,347,613,</td>\n",
       "      <td>159,000,000,</td>\n",
       "    </tr>\n",
       "  </tbody>\n",
       "</table>\n",
       "</div>"
      ],
      "text/plain": [
       "    Unnamed: 0  year                                        movie name  \\\n",
       "0            0  2019                                 Avengers: Endgame   \n",
       "2            2  2018                            Avengers: Infinity War   \n",
       "3            3  2019                                     The Lion King   \n",
       "5            5  2019                                         Frozen II   \n",
       "7            7  2018                                     Black Panther   \n",
       "8            8  2017                 Star Wars Ep. VIII: The Last Jedi   \n",
       "9            9  2017                              Beauty and the Beast   \n",
       "11          11  2018                                     Incredibles 2   \n",
       "13          13  2016                        Captain America: Civil War   \n",
       "14          14  2019                                    Captain Marvel   \n",
       "15          15  2019                                       Toy Story 4   \n",
       "16          16  2019                  Star Wars: The Rise of Skywalker   \n",
       "19          19  2016                      Rogue One: A Star Wars Story   \n",
       "20          20  2019                                           Aladdin   \n",
       "23          23  2016                                      Finding Dory   \n",
       "24          24  2016                                          Zootopia   \n",
       "27          27  2016                                   The Jungle Book   \n",
       "28          28  2022       Doctor Strange in the Multiverse of Madness   \n",
       "30          30  2017                     Guardians of the Galaxy Vol 2   \n",
       "32          32  2017                                    Thor: Ragnarok   \n",
       "33          33  2017                                              Coco   \n",
       "34          34  2017  Pirates of the Caribbean: Dead Men Tell No Tales   \n",
       "41          41  2016                                    Doctor Strange   \n",
       "46          46  2016                                             Moana   \n",
       "49          49  2018                              Ant-Man and the Wasp   \n",
       "57          57  2018                         Ralph Breaks The Internet   \n",
       "63          63  2019                      Maleficent: Mistress of Evil   \n",
       "70          70  2021         Shang-Chi and the Legend of the Ten Rings   \n",
       "73          73  2021                                          Eternals   \n",
       "75          75  2018                           Solo: A Star Wars Story   \n",
       "77          77  2017                                            Cars 3   \n",
       "78          78  2021                                       Black Widow   \n",
       "82          82  2019                                             Dumbo   \n",
       "84          84  2018                              Mary Poppins Returns   \n",
       "94          94  2022                            Thor: Love and Thunder   \n",
       "\n",
       "    worldwide box office domestic box office international box office  \n",
       "0             2797800564        858,373,000,           1,939,427,564,  \n",
       "2             2048359754        678,815,482,           1,369,544,272,  \n",
       "3             1651023152        543,638,043,           1,107,385,109,  \n",
       "5             1445182280        477,373,578,             967,808,702,  \n",
       "7             1336494321        700,059,566,             636,434,755,  \n",
       "8             1331635141        620,181,382,             711,453,759,  \n",
       "9             1270818066        504,014,165,             766,803,901,  \n",
       "11            1242805359        608,581,744,             634,223,615,  \n",
       "13            1151918521        408,084,349,             743,834,172,  \n",
       "14            1129727388        426,829,839,             702,897,549,  \n",
       "15            1073080329        434,038,008,             639,042,321,  \n",
       "16            1072848487        515,202,542,             557,645,945,  \n",
       "19            1055135598        532,177,324,             522,958,274,  \n",
       "20            1046649706        355,559,216,             691,090,490,  \n",
       "23            1025006125        486,295,561,             538,710,564,  \n",
       "24            1004629935        341,268,248,             663,361,687,  \n",
       "27             953554418        364,001,123,             589,553,295,  \n",
       "28             947375894        411,065,727,             536,310,167,  \n",
       "30             869113101        389,813,101,             479,300,000,  \n",
       "32             850482778        315,058,289,             535,424,489,  \n",
       "33             797666425        210,460,015,             587,206,410,  \n",
       "34             794861794        172,558,876,             622,302,918,  \n",
       "41             676354481        232,641,920,             443,712,561,  \n",
       "46             634965560        248,757,044,             386,208,516,  \n",
       "49             623144660        216,648,740,             406,495,920,  \n",
       "57             529290830        201,091,711,             328,199,119,  \n",
       "63             489346495        113,929,605,             375,416,890,  \n",
       "70             432243292        224,543,292,             207,700,000,  \n",
       "73             402064929        164,870,264,             237,194,665,  \n",
       "75             393151347        213,767,512,             179,383,835,  \n",
       "77             383541369        152,901,115,             230,640,254,  \n",
       "78             379751655        183,651,655,             196,100,000,  \n",
       "82             353166307        114,766,307,             238,400,000,  \n",
       "84             348901032        171,958,438,             176,942,594,  \n",
       "94             315347613        156,347,613,             159,000,000,  "
      ]
     },
     "execution_count": 10,
     "metadata": {},
     "output_type": "execute_result"
    }
   ],
   "source": [
    "disney_2015_plus"
   ]
  },
  {
   "cell_type": "markdown",
   "id": "bfc6548a",
   "metadata": {},
   "source": [
    "Rinse and Repeat!"
   ]
  },
  {
   "cell_type": "code",
   "execution_count": 11,
   "id": "1b6e995e",
   "metadata": {},
   "outputs": [],
   "source": [
    "sony_2015_plus_gross = sony_2015_plus['worldwide box office'].sum()\n",
    "disney_2015_plus_gross=disney_2015_plus['worldwide box office'].sum()\n",
    "paramount_2015_plus_gross=paramount_2015_plus['worldwide box office'].sum()\n",
    "universal_2015_plus_gross=universal_2015_plus['worldwide box office'].sum()\n",
    "warner_bros_2015_plus_gross=warner_bros_2015_plus['worldwide box office'].sum()"
   ]
  },
  {
   "cell_type": "code",
   "execution_count": 12,
   "id": "303071e6",
   "metadata": {},
   "outputs": [
    {
     "data": {
      "image/png": "[encoded data removed]",
      "text/plain": [
       "<Figure size 432x288 with 1 Axes>"
      ]
     },
     "metadata": {
      "needs_background": "light"
     },
     "output_type": "display_data"
    }
   ],
   "source": [
    "x = ['Sony', 'Disney', 'Paramount', 'Universal', 'Warner Brothers']\n",
    "y = [sony_2015_plus_gross,disney_2015_plus_gross,paramount_2015_plus_gross,universal_2015_plus_gross,\n",
    "              warner_bros_2015_plus_gross]\n",
    "\n",
    "plt.bar(x,y)\n",
    "plt.ylim(75000000)\n",
    "plt.ylabel('In Dollars by Billion')\n",
    "plt.title('Gross Earnings after 2015')\n",
    "\n",
    "plt.show()"
   ]
  },
  {
   "cell_type": "markdown",
   "id": "44970e09",
   "metadata": {},
   "source": [
    "Sony and Paramount are slacking extremely hard compared to there competitors..."
   ]
  },
  {
   "cell_type": "markdown",
   "id": "a7c8c643",
   "metadata": {},
   "source": [
    "Let's see what's up with Sony and Paramount"
   ]
  },
  {
   "cell_type": "code",
   "execution_count": 13,
   "id": "dc7976ce",
   "metadata": {},
   "outputs": [],
   "source": [
    "sony_2010_up = sony[sony['year']>2010]"
   ]
  },
  {
   "cell_type": "code",
   "execution_count": 14,
   "id": "2afdbe79",
   "metadata": {},
   "outputs": [
    {
     "data": {
      "text/plain": [
       "2013    7\n",
       "2019    6\n",
       "2011    6\n",
       "2016    6\n",
       "2012    5\n",
       "2017    5\n",
       "2018    4\n",
       "2015    3\n",
       "2014    3\n",
       "2021    2\n",
       "2020    1\n",
       "2022    1\n",
       "Name: year, dtype: int64"
      ]
     },
     "execution_count": 14,
     "metadata": {},
     "output_type": "execute_result"
    }
   ],
   "source": [
    "sony_2010_up['year'].value_counts()"
   ]
  },
  {
   "cell_type": "code",
   "execution_count": 15,
   "id": "b42ebf81",
   "metadata": {},
   "outputs": [],
   "source": [
    "sony_2010= sony[sony['year']==2010]\n",
    "sony_2011= sony[sony['year']==2011]\n",
    "sony_2012= sony[sony['year']==2012]\n",
    "sony_2013 = sony[sony['year']==2013]\n",
    "sony_2014= sony[sony['year']==2014]\n",
    "sony_2015= sony[sony['year']==2015]\n",
    "sony_2016= sony[sony['year']==2016]\n",
    "sony_2017= sony[sony['year']==2017]\n",
    "sony_2018= sony[sony['year']==2018]\n",
    "sony_2019= sony[sony['year']==2019]\n",
    "sony_2020= sony[sony['year']==2020]\n",
    "sony_2021= sony[sony['year']==2021]\n",
    "sony_2022= sony[sony['year']==2022]"
   ]
  },
  {
   "cell_type": "code",
   "execution_count": 16,
   "id": "a156a9a0",
   "metadata": {},
   "outputs": [],
   "source": [
    "sony_2010_gross= sony_2010['worldwide box office'].sum()\n",
    "sony_2011_gross= sony_2011['worldwide box office'].sum()\n",
    "sony_2012_gross= sony_2012['worldwide box office'].sum()\n",
    "sony_2013_gross = sony_2013['worldwide box office'].sum()\n",
    "sony_2014_gross= sony_2014['worldwide box office'].sum()\n",
    "sony_2015_gross= sony_2015['worldwide box office'].sum()\n",
    "sony_2016_gross= sony_2016['worldwide box office'].sum()\n",
    "sony_2017_gross= sony_2017['worldwide box office'].sum()\n",
    "sony_2018_gross= sony_2018['worldwide box office'].sum()\n",
    "sony_2019_gross= sony_2019['worldwide box office'].sum()\n",
    "sony_2020_gross= sony_2020['worldwide box office'].sum()\n",
    "sony_2021_gross= sony_2021['worldwide box office'].sum()\n",
    "sony_2022_gross= sony_2022['worldwide box office'].sum()"
   ]
  },
  {
   "cell_type": "code",
   "execution_count": 17,
   "id": "01349941",
   "metadata": {},
   "outputs": [
    {
     "data": {
      "image/png": "[encoded data removed]",
      "text/plain": [
       "<Figure size 1080x720 with 1 Axes>"
      ]
     },
     "metadata": {
      "needs_background": "light"
     },
     "output_type": "display_data"
    }
   ],
   "source": [
    "x = ['2010', '2011', '2012', '2013', '2014', '2015','2016','2017','2018','2019','2020','2021','2022']\n",
    "y = [sony_2010_gross,sony_2011_gross,sony_2012_gross,sony_2013_gross,sony_2014_gross,sony_2015_gross,\n",
    "    sony_2016_gross,sony_2017_gross,sony_2018_gross,sony_2019_gross,sony_2020_gross,sony_2021_gross,sony_2022_gross]\n",
    "\n",
    "plt.figure(figsize=(15,10))\n",
    "plt.plot(x,y)\n",
    "plt.ylim(75000000)\n",
    "plt.ylabel('In dollars Billions')\n",
    "plt.xlabel('Years')\n",
    "plt.title('Sony Earnings per year')\n",
    "\n",
    "plt.show()"
   ]
  },
  {
   "cell_type": "markdown",
   "id": "50953660",
   "metadata": {},
   "source": [
    "Same for paramount"
   ]
  },
  {
   "cell_type": "code",
   "execution_count": 18,
   "id": "ff955583",
   "metadata": {},
   "outputs": [],
   "source": [
    "paramount_2010_up = paramount[paramount['year']>2010]"
   ]
  },
  {
   "cell_type": "code",
   "execution_count": 19,
   "id": "9f36da8f",
   "metadata": {},
   "outputs": [],
   "source": [
    "paramount_2010= paramount[paramount['year']==2010]\n",
    "paramount_2011= paramount[paramount['year']==2011]\n",
    "paramount_2012= paramount[paramount['year']==2012]\n",
    "paramount_2013 = paramount[paramount['year']==2013]\n",
    "paramount_2014= paramount[paramount['year']==2014]\n",
    "paramount_2015= paramount[paramount['year']==2015]\n",
    "paramount_2016= paramount[paramount['year']==2016]\n",
    "paramount_2017= paramount[paramount['year']==2017]\n",
    "paramount_2018= paramount[paramount['year']==2018]\n",
    "paramount_2019= paramount[paramount['year']==2019]\n",
    "paramount_2020= paramount[paramount['year']==2020]\n",
    "paramount_2021= paramount[paramount['year']==2021]\n",
    "paramount_2022= paramount[paramount['year']==2022]"
   ]
  },
  {
   "cell_type": "code",
   "execution_count": 20,
   "id": "09a5ace1",
   "metadata": {},
   "outputs": [],
   "source": [
    "paramount_2010_gross= paramount_2010['worldwide box office'].sum()\n",
    "paramount_2011_gross= paramount_2011['worldwide box office'].sum()\n",
    "paramount_2012_gross= paramount_2012['worldwide box office'].sum()\n",
    "paramount_2013_gross = paramount_2013['worldwide box office'].sum()\n",
    "paramount_2014_gross= paramount_2014['worldwide box office'].sum()\n",
    "paramount_2015_gross= paramount_2015['worldwide box office'].sum()\n",
    "paramount_2016_gross= paramount_2016['worldwide box office'].sum()\n",
    "paramount_2017_gross= paramount_2017['worldwide box office'].sum()\n",
    "paramount_2018_gross= paramount_2018['worldwide box office'].sum()\n",
    "paramount_2019_gross=paramount_2019['worldwide box office'].sum()\n",
    "paramount_2020_gross= paramount_2020['worldwide box office'].sum()\n",
    "paramount_2021_gross= paramount_2021['worldwide box office'].sum()\n",
    "paramount_2022_gross= paramount_2022['worldwide box office'].sum()"
   ]
  },
  {
   "cell_type": "code",
   "execution_count": 21,
   "id": "a4312c4d",
   "metadata": {},
   "outputs": [
    {
     "data": {
      "image/png": "[encoded data removed]",
      "text/plain": [
       "<Figure size 1080x720 with 1 Axes>"
      ]
     },
     "metadata": {
      "needs_background": "light"
     },
     "output_type": "display_data"
    }
   ],
   "source": [
    "x = ['2010', '2011', '2012', '2013', '2014', '2015','2016','2017','2018','2019','2020','2021','2022']\n",
    "y = [paramount_2010_gross,paramount_2011_gross,paramount_2012_gross,paramount_2013_gross,paramount_2014_gross,paramount_2015_gross,\n",
    "    paramount_2016_gross,paramount_2017_gross,paramount_2018_gross,paramount_2019_gross,paramount_2020_gross,paramount_2021_gross,paramount_2022_gross]\n",
    "\n",
    "plt.figure(figsize=(15,10))\n",
    "plt.plot(x,y)\n",
    "\n",
    "plt.ylim(75000000)\n",
    "plt.ylabel('In dollars Billions')\n",
    "plt.xlabel('Years')\n",
    "plt.title('Paramount Earnings per year')\n",
    "\n",
    "\n",
    "plt.show();"
   ]
  },
  {
   "cell_type": "code",
   "execution_count": null,
   "id": "f32844d6",
   "metadata": {},
   "outputs": [],
   "source": []
  }
 ],
 "metadata": {
  "kernelspec": {
   "display_name": "Python (brother_rocks_workflow)",
   "language": "python",
   "name": "learn-env"
  },
  "language_info": {
   "codemirror_mode": {
    "name": "ipython",
    "version": 3
   },
   "file_extension": ".py",
   "mimetype": "text/x-python",
   "name": "python",
   "nbconvert_exporter": "python",
   "pygments_lexer": "ipython3",
   "version": "3.10.4"
  }
 },
 "nbformat": 4,
 "nbformat_minor": 5
}
